{
 "cells": [
  {
   "cell_type": "code",
   "execution_count": 1,
   "id": "9f306e71",
   "metadata": {},
   "outputs": [],
   "source": [
    "import numpy as np"
   ]
  },
  {
   "cell_type": "code",
   "execution_count": null,
   "id": "7b37579a",
   "metadata": {},
   "outputs": [],
   "source": []
  },
  {
   "cell_type": "code",
   "execution_count": 12,
   "id": "95cdeb5f",
   "metadata": {},
   "outputs": [],
   "source": [
    "z = -2# (-1 + np.sqrt(15)) / 2\n",
    "gamma = -z\n",
    "mu = (-2 * z  - z**2) / (z**2 + z)\n",
    "\n",
    "seq = [0, 0, z]\n",
    "\n",
    "def f(x):\n",
    "    return x**2 + x\n",
    "\n",
    "def grad_f(x):\n",
    "    return x + 1"
   ]
  },
  {
   "cell_type": "code",
   "execution_count": 13,
   "id": "f8804e65",
   "metadata": {},
   "outputs": [
    {
     "data": {
      "text/plain": [
       "0.0"
      ]
     },
     "execution_count": 13,
     "metadata": {},
     "output_type": "execute_result"
    }
   ],
   "source": [
    "mu"
   ]
  },
  {
   "cell_type": "code",
   "execution_count": 3,
   "id": "08ffcb9b",
   "metadata": {},
   "outputs": [],
   "source": [
    "x1, x2 = seq[0], seq[1]\n",
    "i = 2\n",
    "x3 = x2 - gamma * grad_f(x2 + mu * (x2 - x1)) + mu * (x2 - x1)"
   ]
  },
  {
   "cell_type": "code",
   "execution_count": 4,
   "id": "709e1b26",
   "metadata": {},
   "outputs": [
    {
     "data": {
      "text/plain": [
       "(-2.0, 0.0, True)"
      ]
     },
     "execution_count": 4,
     "metadata": {},
     "output_type": "execute_result"
    }
   ],
   "source": [
    "x3, mu, x3 == z"
   ]
  },
  {
   "cell_type": "code",
   "execution_count": 5,
   "id": "e9ab7d18",
   "metadata": {},
   "outputs": [
    {
     "data": {
      "text/plain": [
       "0.0"
      ]
     },
     "execution_count": 5,
     "metadata": {},
     "output_type": "execute_result"
    }
   ],
   "source": [
    "x4 = x3 - gamma * grad_f(x3 + mu * (x3 - x2)) + mu * (x3 - x2)\n",
    "x4"
   ]
  },
  {
   "cell_type": "code",
   "execution_count": 6,
   "id": "b5e2130b",
   "metadata": {},
   "outputs": [
    {
     "data": {
      "text/plain": [
       "-2.0"
      ]
     },
     "execution_count": 6,
     "metadata": {},
     "output_type": "execute_result"
    }
   ],
   "source": [
    "x5 = x4 - gamma * grad_f(x4 + mu * (x4 - x3)) + mu * (x4 - x3)\n",
    "x5"
   ]
  },
  {
   "cell_type": "code",
   "execution_count": 7,
   "id": "bdddf2a5",
   "metadata": {},
   "outputs": [
    {
     "data": {
      "text/plain": [
       "0.0"
      ]
     },
     "execution_count": 7,
     "metadata": {},
     "output_type": "execute_result"
    }
   ],
   "source": [
    "x6 = x5 - gamma * grad_f(x5 + mu * (x5 - x4)) + mu * (x5 - x4)\n",
    "x6"
   ]
  },
  {
   "cell_type": "code",
   "execution_count": 8,
   "id": "7a615795",
   "metadata": {},
   "outputs": [
    {
     "data": {
      "text/plain": [
       "-2.0"
      ]
     },
     "execution_count": 8,
     "metadata": {},
     "output_type": "execute_result"
    }
   ],
   "source": [
    "x7 = x6 - gamma * grad_f(x6 + mu * (x6 - x5)) + mu * (x6 - x5)\n",
    "x7"
   ]
  },
  {
   "cell_type": "code",
   "execution_count": 10,
   "id": "cdf20858",
   "metadata": {},
   "outputs": [
    {
     "data": {
      "text/plain": [
       "0.0"
      ]
     },
     "execution_count": 10,
     "metadata": {},
     "output_type": "execute_result"
    }
   ],
   "source": [
    "x8 = x7 - gamma * grad_f(x7 + mu * (x7 - x6)) + mu * (x7 - x6)\n",
    "x8\n"
   ]
  }
 ],
 "metadata": {
  "kernelspec": {
   "display_name": ".venv",
   "language": "python",
   "name": "python3"
  },
  "language_info": {
   "codemirror_mode": {
    "name": "ipython",
    "version": 3
   },
   "file_extension": ".py",
   "mimetype": "text/x-python",
   "name": "python",
   "nbconvert_exporter": "python",
   "pygments_lexer": "ipython3",
   "version": "3.10.15"
  }
 },
 "nbformat": 4,
 "nbformat_minor": 5
}

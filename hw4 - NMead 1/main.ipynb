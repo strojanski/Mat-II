{
 "cells": [
  {
   "cell_type": "markdown",
   "id": "13ec5ef0",
   "metadata": {},
   "source": [
    "# Part 1: Nelder Mead"
   ]
  },
  {
   "cell_type": "code",
   "execution_count": 11,
   "id": "e7528bd8",
   "metadata": {},
   "outputs": [],
   "source": [
    "import numpy as np\n",
    "\n",
    "np.random.seed(42) \n",
    "    \n",
    "class Simplex:\n",
    "    \"\"\" For generality \"\"\"\n",
    "    def __init__(self, vertices):        \n",
    "        self.vertices = np.array(vertices)\n",
    "        self.n_dim = self.vertices[0].shape[0]  # Number of dimensions\n",
    "        \n",
    "        assert self.vertices.shape[0] == self.n_dim + 1, \"Simplex must have n+1 vertices in n dimensions\"\n",
    "        \n",
    "    def __repr__(self):\n",
    "        return f\"Simplex(vertices={self.vertices})\"\n",
    "    \n",
    "    def sort_simplex(self, func):\n",
    "        vals = [func(vertex) for vertex in self.vertices]\n",
    "        sorted_vertices = np.array([self.vertices[i] for i in np.argsort(vals)])\n",
    "        self.vertices = sorted_vertices\n",
    "            \n",
    "    def centroid(self):\n",
    "        centroid = np.mean(self.vertices[:-1], axis=0)  # Exclude the worst point      \n",
    "        return centroid\n",
    "    \n",
    "    def converged(self, tol=1e-6):\n",
    "        \"\"\" Check if the simplex has converged based on the tolerance. \"\"\"\n",
    "        return np.max(np.abs(self.vertices - np.mean(self.vertices, axis=0))) < tol\n",
    "\n",
    "    def reflect(self, c, alpha):\n",
    "        \"\"\"Reflect worst point across the centriod - also used for extension and contraction\"\"\"\n",
    "        x_w = self.vertices[-1]\n",
    "        return c + alpha * (c - x_w)\n",
    "    \n",
    "    def contract(self, c, x_r, beta, mode=\"outside\"):\n",
    "        if mode == 'outside':\n",
    "            return c + beta * (x_r - c)\n",
    "        else:  # inside contraction\n",
    "            return c - beta * (c - self.vertices[-1])\n",
    "    \n",
    "    def diameter(self):\n",
    "        \"\"\"Compute the maximum distance between any two vertices.\"\"\"\n",
    "        return np.max(np.linalg.norm(self.vertices - self.vertices[:, np.newaxis], axis=-1))\n",
    "    \n",
    "    def shrink(self, delta):\n",
    "        self.vertices[1:] = self.vertices[0] + delta * (self.vertices[1:] - self.vertices[0])\n",
    "\n",
    "\n",
    " \n",
    "    \n",
    "alpha = 1.0  # Reflection\n",
    "beta = 0.5 # Contraction\n",
    "gamma = 2.0  # Expansion\n",
    "delta = 0.5 # Shrinkage    \n",
    "    \n",
    "def nelder_mead(func, simplex: Simplex, max_iter=1000, tol=1e-6, verbose=False):\n",
    "    \"\"\"\n",
    "    Perform the Nelder-Mead optimization algorithm in 2D.\n",
    "\n",
    "    Parameters:\n",
    "    - func: The objective function to minimize.\n",
    "    - simplex: A list of points defining the initial simplex.\n",
    "    - max_iter: Maximum number of iterations.\n",
    "    - tol: Tolerance for convergence.\n",
    "\n",
    "    Returns:\n",
    "    - The point that minimizes the function.\n",
    "    \"\"\"\n",
    "\n",
    "    for k in range(max_iter):\n",
    "        simplex.sort_simplex(func)\n",
    "\n",
    "        if simplex.diameter() < tol:\n",
    "            print(f\"Converged at iteration {k}.\")\n",
    "            break\n",
    "        \n",
    "        if verbose:\n",
    "            best, worst = simplex.vertices[0], simplex.vertices[-1]\n",
    "            print(f\"iter {k:3d}, best={best}, f={func(best):.6f}, worst={worst}, f={func(worst):.6f}, diameter={simplex.diameter():.6f} \")\n",
    "\n",
    "        centroid = simplex.centroid()\n",
    "        \n",
    "        # Reflection & Extension\n",
    "        reflected = simplex.reflect(centroid, alpha)\n",
    "        reflected_value = func(reflected)   # Dont recompute (can precompute for all vertices each iteration)\n",
    "        \n",
    "        if reflected_value < func(simplex.vertices[-2]):\n",
    "            \n",
    "            if reflected_value < func(simplex.vertices[0]): # Expand reflection if it was better than the second worst\n",
    "                extended = simplex.reflect(centroid, gamma)  \n",
    "\n",
    "                if func(extended) < reflected_value:\n",
    "                    simplex.vertices[-1] = extended\n",
    "                    \n",
    "                else:\n",
    "                    simplex.vertices[-1] = reflected\n",
    "            else:\n",
    "                simplex.vertices[-1] = reflected\n",
    "            \n",
    "            continue\n",
    "\n",
    "        # Contraction\n",
    "        if reflected_value >= func(simplex.vertices[-2]):\n",
    "            # Outside contraction\n",
    "            contracted = simplex.contract(centroid, reflected, beta, mode='outside')\n",
    "            contracted_value = func(contracted)\n",
    "            \n",
    "            if contracted_value < reflected_value:\n",
    "                simplex.vertices[-1] = contracted\n",
    "            else:\n",
    "                # Shrink\n",
    "                simplex.shrink(delta)\n",
    "            \n",
    "        \n",
    "        else:\n",
    "            # Inside contraction\n",
    "            contracted = simplex.contract(centroid, reflected, beta, mode='inside')\n",
    "            contracted_value = func(contracted)\n",
    "            \n",
    "            if contracted_value < func(simplex.vertices[-1]):\n",
    "                simplex.vertices[-1] = contracted\n",
    "            else:\n",
    "                # Shrink\n",
    "                simplex.shrink(delta)\n",
    "            \n",
    "            \n",
    "    return simplex.vertices[0]"
   ]
  },
  {
   "cell_type": "markdown",
   "id": "a4b81960",
   "metadata": {},
   "source": [
    "### Testing GD functions"
   ]
  },
  {
   "cell_type": "code",
   "execution_count": 12,
   "id": "5d033d79",
   "metadata": {},
   "outputs": [],
   "source": [
    "def f1(x):\n",
    "    x, y, z = x\n",
    "    return (x - z)**2 + (2*y + z)**2 + (4*x - 2*y + z)**2 + x + y\n",
    "\n",
    "start_f1 = np.array([0,0,0], dtype=float)"
   ]
  },
  {
   "cell_type": "code",
   "execution_count": 13,
   "id": "15e77e46",
   "metadata": {},
   "outputs": [],
   "source": [
    "def f2(x):\n",
    "    x,y,z = x\n",
    "    return (x - 1)**2 + (y - 1)**2 + 100*(y-x**2)**2 + 100*(z-y**2)**2\n",
    "\n",
    "start_f2 = np.array([1.2, 1.2, 1.2], dtype=float)"
   ]
  },
  {
   "cell_type": "code",
   "execution_count": 14,
   "id": "43707ce9",
   "metadata": {},
   "outputs": [],
   "source": [
    "def f3(x):\n",
    "    x,y = x\n",
    "    return (1.5 - x + x*y)**2 + (2.25 - x + x*y**2)**2 + (2.625 - x + x*y**3)**2\n",
    "\n",
    "start_f3 = np.array([1,1], dtype=float)"
   ]
  },
  {
   "cell_type": "code",
   "execution_count": null,
   "id": "45dc49b3",
   "metadata": {},
   "outputs": [],
   "source": [
    "# x, y, (z) + f(x,y,(z)) # Approximate minimums of the functions\n",
    "# f1 minimum: [-0.16232465 -0.22244489  0.16232465 -0.19775824]\n",
    "# f2 minimum: [1.00400802 1.00400802 1.00400802 0.00327077]\n",
    "# f3 minimum: [3.00000000e+00 5.00150015e-01 5.19139201e-07]"
   ]
  },
  {
   "cell_type": "markdown",
   "id": "a8c66cc0",
   "metadata": {},
   "source": [
    "#### F1"
   ]
  },
  {
   "cell_type": "code",
   "execution_count": 16,
   "id": "a33fed5c",
   "metadata": {},
   "outputs": [
    {
     "name": "stdout",
     "output_type": "stream",
     "text": [
      "Converged at iteration 152.\n"
     ]
    },
    {
     "data": {
      "text/plain": [
       "(array([-0.16666667, -0.22916667,  0.1666667 ]),\n",
       " np.float64(-0.19791666666666463),\n",
       " Simplex(vertices=[[-0.16666667 -0.22916667  0.1666667 ]\n",
       "  [-0.16666664 -0.22916665  0.16666662]\n",
       "  [-0.16666669 -0.22916669  0.16666666]\n",
       "  [-0.16666665 -0.22916663  0.16666663]]))"
      ]
     },
     "execution_count": 16,
     "metadata": {},
     "output_type": "execute_result"
    }
   ],
   "source": [
    "simplex = Simplex([start_f1,\n",
    "                   start_f1 + np.array([1, 0, 0], dtype=float),\n",
    "                   start_f1 + np.array([0, 1, 0], dtype=float),\n",
    "                   start_f1 + np.array([0, 0, 1], dtype=float)])\n",
    "\n",
    "min_pt = nelder_mead(f1, simplex, max_iter=1000, tol=1e-7)\n",
    "min_pt, f1(min_pt), simplex"
   ]
  },
  {
   "cell_type": "markdown",
   "id": "15b763db",
   "metadata": {},
   "source": [
    "#### F2"
   ]
  },
  {
   "cell_type": "code",
   "execution_count": 17,
   "id": "dcf3a33b",
   "metadata": {},
   "outputs": [
    {
     "name": "stdout",
     "output_type": "stream",
     "text": [
      "Converged at iteration 201.\n"
     ]
    },
    {
     "data": {
      "text/plain": [
       "(array([0.99999999, 0.99999998, 0.99999997]),\n",
       " np.float64(3.5784604632461274e-16))"
      ]
     },
     "execution_count": 17,
     "metadata": {},
     "output_type": "execute_result"
    }
   ],
   "source": [
    "simplex = Simplex([start_f2,\n",
    "                   start_f2 + np.array([1, 0, 0], dtype=float),\n",
    "                   start_f2 + np.array([0, 1, 0], dtype=float),\n",
    "                   start_f2 + np.array([0, 0, 1], dtype=float)])\n",
    "\n",
    "min_pt = nelder_mead(f2, simplex, max_iter=1000, tol=1e-7)\n",
    "min_pt, f2(min_pt)"
   ]
  },
  {
   "cell_type": "markdown",
   "id": "411b9709",
   "metadata": {},
   "source": [
    "#### F3"
   ]
  },
  {
   "cell_type": "code",
   "execution_count": 18,
   "id": "936db895",
   "metadata": {},
   "outputs": [
    {
     "name": "stdout",
     "output_type": "stream",
     "text": [
      "Converged at iteration 94.\n"
     ]
    },
    {
     "data": {
      "text/plain": [
       "(array([2.99999995, 0.49999999]), np.float64(4.174865205948375e-16))"
      ]
     },
     "execution_count": 18,
     "metadata": {},
     "output_type": "execute_result"
    }
   ],
   "source": [
    "simplex = Simplex([start_f3,\n",
    "                   start_f3 + np.array([1, 0], dtype=float),\n",
    "                   start_f3 + np.array([0, 1], dtype=float)])\n",
    "\n",
    "min_pt = nelder_mead(f3, simplex, max_iter=1000, tol=1e-7)\n",
    "min_pt, f3(min_pt)"
   ]
  },
  {
   "cell_type": "code",
   "execution_count": 19,
   "id": "1a829bbb",
   "metadata": {},
   "outputs": [
    {
     "name": "stdout",
     "output_type": "stream",
     "text": [
      "Converged at iteration 377.\n"
     ]
    },
    {
     "data": {
      "text/plain": [
       "(array([1., 1., 1., 1., 1., 1., 1.]), np.float64(0.0))"
      ]
     },
     "execution_count": 19,
     "metadata": {},
     "output_type": "execute_result"
    }
   ],
   "source": [
    "# Test for higher dimensions\n",
    "def fx(x):\n",
    "    x,y,z,a,b,c,d = x\n",
    "    return (x - 1)**2 + (y - 1)**2 + (z - 1)**2 + (a - 1)**2 + (b - 1)**2 + (c - 1)**2 + (d - 1)**2\n",
    "\n",
    "start_fx = np.array([1, 1, 1, 1, 1, 1, 1], dtype=float)\n",
    "simplex = Simplex([start_fx,\n",
    "                   start_fx + np.array([1, 0, 0, 0, 0, 0, 0], dtype=float),\n",
    "                   start_fx + np.array([0, 1, 0, 0, 0, 0, 0], dtype=float),\n",
    "                   start_fx + np.array([0, 0, 1, 0, 0, 0, 0], dtype=float),\n",
    "                   start_fx + np.array([0, 0, 0, 1, 0, 0, 0], dtype=float),\n",
    "                   start_fx + np.array([0, 0, 0, 0, 1, 0, 0], dtype=float),\n",
    "                   start_fx + np.array([0, 0, 0, 0, 0, 1, 0], dtype=float),\n",
    "                   start_fx + np.array([0, 0, 0, 0, 0, 0, 1], dtype=float)])\n",
    "min_pt = nelder_mead(fx, simplex, max_iter=1000, tol=1e-7)\n",
    "min_pt, fx(min_pt)"
   ]
  },
  {
   "cell_type": "markdown",
   "id": "7e32d9cb",
   "metadata": {},
   "source": [
    "## Jeklo ruse"
   ]
  },
  {
   "cell_type": "code",
   "execution_count": 20,
   "id": "ba6119df",
   "metadata": {},
   "outputs": [],
   "source": [
    "from itertools import combinations\n",
    "import numpy as np\n",
    "\n",
    "constraints = [\n",
    "    (np.array([3, 1]), 600),   # C1: 3x1 + x2 = 600\n",
    "    (np.array([2, 2]), 480),   # C2: 2x1 + 2x2 = 480\n",
    "    (np.array([1, 0]), 0),     # C3: x1 = 0\n",
    "    (np.array([0, 1]), 0)      # C4: x2 = 0\n",
    "]\n",
    "\n",
    "def is_feasible(x):\n",
    "    x1, x2 = x\n",
    "    return (\n",
    "        3*x1 + x2 <= 600 + 1e-8 and     # C1\n",
    "        2*x1 + 2*x2 <= 480 + 1e-8 and   # C2\n",
    "        x1 >= -1e-8 and                 # Chack nonzero\n",
    "        x2 >= -1e-8                     # Chack nonzero\n",
    "    )\n",
    "\n",
    "def objective(x1, x2):\n",
    "    return 3*x1 + 2*x2\n",
    "\n",
    "def jeklo_ruse():\n",
    "    feasible_points = []\n",
    "\n",
    "    # all combinations of 2 constraints\n",
    "    for (A1, b1), (A2, b2) in combinations(constraints, 2):\n",
    "        A = np.array([A1, A2])\n",
    "        b = np.array([b1, b2])\n",
    "        try:\n",
    "            x = np.linalg.solve(A, b)\n",
    "            if is_feasible(x):\n",
    "                cost = objective(*x)\n",
    "                feasible_points.append((x, cost))\n",
    "        except np.linalg.LinAlgError:\n",
    "            continue  # no intersection\n",
    "\n",
    "    opt_point, opt_cost = max(feasible_points, key=lambda p: p[1])\n",
    "    return opt_point, opt_cost "
   ]
  },
  {
   "cell_type": "code",
   "execution_count": 21,
   "id": "e82d4239",
   "metadata": {},
   "outputs": [
    {
     "data": {
      "text/plain": [
       "(array([180.,  60.]), np.float64(660.0))"
      ]
     },
     "execution_count": 21,
     "metadata": {},
     "output_type": "execute_result"
    }
   ],
   "source": [
    "jeklo_ruse()"
   ]
  },
  {
   "cell_type": "markdown",
   "id": "e381f13d",
   "metadata": {},
   "source": [
    "Q: What if there are m variables and n constrains? How many candidate points do we get? \\\n",
    "A: we can get n over m candidate points, each point is a solution to a system of m equality constraints, but not all are feasible (some will violate some of the n-m constraints)"
   ]
  }
 ],
 "metadata": {
  "kernelspec": {
   "display_name": "Mat-II",
   "language": "python",
   "name": "python3"
  },
  "language_info": {
   "codemirror_mode": {
    "name": "ipython",
    "version": 3
   },
   "file_extension": ".py",
   "mimetype": "text/x-python",
   "name": "python",
   "nbconvert_exporter": "python",
   "pygments_lexer": "ipython3",
   "version": "3.10.15"
  }
 },
 "nbformat": 4,
 "nbformat_minor": 5
}

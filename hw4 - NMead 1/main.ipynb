{
 "cells": [
  {
   "cell_type": "markdown",
   "id": "13ec5ef0",
   "metadata": {},
   "source": [
    "# Part 1: Nelder Mead"
   ]
  },
  {
   "cell_type": "code",
   "execution_count": null,
   "id": "e7528bd8",
   "metadata": {},
   "outputs": [],
   "source": [
    "import numpy as np\n",
    "\n",
    "np.random.seed(42) \n",
    "    \n",
    "class Simplex:\n",
    "    \"\"\" For generality \"\"\"\n",
    "    def __init__(self, vertices):        \n",
    "        self.vertices = np.array(vertices)\n",
    "        self.n_dim = self.vertices[0].shape[0]  # Number of dimensions\n",
    "        \n",
    "        assert self.vertices.shape[0] == self.n_dim + 1, \"Simplex must have n+1 vertices in n dimensions\"\n",
    "        \n",
    "    def __repr__(self):\n",
    "        return f\"Simplex(vertices={self.vertices})\"\n",
    "    \n",
    "    def sort_simplex(self, func):\n",
    "        vals = [func(vertex) for vertex in self.vertices]\n",
    "        sorted_vertices = np.array([self.vertices[i] for i in np.argsort(vals)])\n",
    "        self.vertices = sorted_vertices\n",
    "            \n",
    "    def centroid(self):\n",
    "        centroid = np.mean(self.vertices[:-1], axis=0)  # Exclude the worst point      \n",
    "        return centroid\n",
    "    \n",
    "    def converged(self, tol=1e-6):\n",
    "        \"\"\" Check if the simplex has converged based on the tolerance. \"\"\"\n",
    "        return np.max(np.abs(self.vertices - np.mean(self.vertices, axis=0))) < tol\n",
    "\n",
    "    def reflect(self, c, alpha):\n",
    "        \"\"\"Reflect worst point across the centriod - also used for extension and contraction\"\"\"\n",
    "        x_w = self.vertices[-1]\n",
    "        return c + alpha * (c - x_w)\n",
    "    \n",
    "    def contract(self, c, x_r, beta, mode=\"outside\"):\n",
    "        if mode == 'outside':\n",
    "            return c + beta * (x_r - c)\n",
    "        else:  # inside contraction\n",
    "            return c - beta * (c - self.vertices[-1])\n",
    "    \n",
    "    def diameter(self):\n",
    "        \"\"\"Compute the maximum distance between any two vertices.\"\"\"\n",
    "        return np.max(np.linalg.norm(self.vertices - self.vertices[:, np.newaxis], axis=-1))\n",
    "    \n",
    "    def shrink(self, delta):\n",
    "        self.vertices[1:] = self.vertices[0] + delta * (self.vertices[1:] - self.vertices[0])\n",
    "\n",
    "\n",
    "        # best = self.vertices[0]\n",
    "        # for i in range(1, len(self.vertices)):\n",
    "        #     for dim in range(self.n_dim):\n",
    "        #         self.vertices[i, dim] = best[dim] + delta * (self.vertices[i, dim] - best[dim])\n",
    " \n",
    "    \n",
    "alpha = 1.0  # Reflection\n",
    "beta = 0.5 # Contraction\n",
    "gamma = 2.0  # Expansion\n",
    "delta = 0.5 # Shrinkage    \n",
    "    \n",
    "def nelder_mead(func, simplex: Simplex, max_iter=1000, tol=1e-6):\n",
    "    \"\"\"\n",
    "    Perform the Nelder-Mead optimization algorithm in 2D.\n",
    "\n",
    "    Parameters:\n",
    "    - func: The objective function to minimize.\n",
    "    - simplex: A list of points defining the initial simplex.\n",
    "    - max_iter: Maximum number of iterations.\n",
    "    - tol: Tolerance for convergence.\n",
    "\n",
    "    Returns:\n",
    "    - The point that minimizes the function.\n",
    "    \"\"\"\n",
    "\n",
    "    for k in range(max_iter):\n",
    "        simplex.sort_simplex(func)\n",
    "\n",
    "        if simplex.diameter() < tol:\n",
    "            print(f\"Converged at iteration {k}.\")\n",
    "            break\n",
    "        \n",
    "        best, worst = simplex.vertices[0], simplex.vertices[-1]\n",
    "        print(f\"iter {k:3d}, best={best}, f={func(best):.6f}\")\n",
    "\n",
    "        centroid = simplex.centroid()\n",
    "        \n",
    "        # Reflection & Extension\n",
    "        reflected = simplex.reflect(centroid, alpha)\n",
    "        reflected_value = func(reflected)   # Dont recompute (can precompute for all vertices each iteration)\n",
    "        \n",
    "        if reflected_value < func(simplex.vertices[-2]):\n",
    "            \n",
    "            if reflected_value < func(simplex.vertices[0]): # Expand reflection if it was better than the second worst\n",
    "                extended = simplex.reflect(centroid, gamma)  \n",
    "\n",
    "                if func(extended) < reflected_value:\n",
    "                    simplex.vertices[-1] = extended\n",
    "                    \n",
    "                else:\n",
    "                    simplex.vertices[-1] = reflected\n",
    "            else:\n",
    "                simplex.vertices[-1] = reflected\n",
    "            \n",
    "            continue\n",
    "\n",
    "        # Contraction\n",
    "        if reflected_value >= func(simplex.vertices[-2]):\n",
    "            # Outside contraction\n",
    "            contracted = simplex.contract(centroid, reflected, beta, mode='outside')\n",
    "            contracted_value = func(contracted)\n",
    "            \n",
    "            if contracted_value < reflected_value:\n",
    "                simplex.vertices[-1] = contracted\n",
    "            else:\n",
    "                # Shrink\n",
    "                simplex.shrink(delta)\n",
    "            \n",
    "        \n",
    "        else:\n",
    "            # Inside contraction\n",
    "            contracted = simplex.contract(centroid, reflected, beta, mode='inside')\n",
    "            contracted_value = func(contracted)\n",
    "            \n",
    "            if contracted_value < func(simplex.vertices[-1]):\n",
    "                simplex.vertices[-1] = contracted\n",
    "            else:\n",
    "                # Shrink\n",
    "                simplex.shrink(delta)\n",
    "            \n",
    "            \n",
    "    return simplex.vertices[0]"
   ]
  },
  {
   "cell_type": "markdown",
   "id": "a4b81960",
   "metadata": {},
   "source": [
    "### Testing GD functions"
   ]
  },
  {
   "cell_type": "code",
   "execution_count": 185,
   "id": "5d033d79",
   "metadata": {},
   "outputs": [],
   "source": [
    "def f1(x):\n",
    "    x, y, z = x\n",
    "    return (x - z)**2 + (2*y + z)**2 + (4*x - 2*y + z)**2 + x + y\n",
    "\n",
    "start_f1 = np.array([0,0,0])"
   ]
  },
  {
   "cell_type": "code",
   "execution_count": 171,
   "id": "15e77e46",
   "metadata": {},
   "outputs": [],
   "source": [
    "def f2(x):\n",
    "    x,y,z = x\n",
    "    return (x - 1)**2 + (y - 1)**2 + 100*(y-x**2)**2 + 100*(z-y**2)**2\n",
    "\n",
    "start_f2 = np.array([1.2, 1.2, 1.2])"
   ]
  },
  {
   "cell_type": "code",
   "execution_count": 172,
   "id": "43707ce9",
   "metadata": {},
   "outputs": [],
   "source": [
    "def f3(x):\n",
    "    x,y = x\n",
    "    return (1.5 - x + x*y)**2 + (2.25 - x + x*y**2)**2 + (2.625 - x + x*y**3)**2\n",
    "\n",
    "start_f3 = np.array([1,1])"
   ]
  },
  {
   "cell_type": "code",
   "execution_count": 173,
   "id": "45dc49b3",
   "metadata": {},
   "outputs": [],
   "source": [
    "# x, y, (z) + f(x,y,(z))\n",
    "# f1 minimum: [-0.15151515 -0.21212121  0.15151515 -0.19651056]\n",
    "# f2 minimum: [1. 1. 1. 0.]\n",
    "# f3 minimum: [3.00000000e+00 5.01501502e-01 5.21242614e-05]"
   ]
  },
  {
   "cell_type": "markdown",
   "id": "a8c66cc0",
   "metadata": {},
   "source": [
    "#### F1"
   ]
  },
  {
   "cell_type": "code",
   "execution_count": 186,
   "id": "a33fed5c",
   "metadata": {},
   "outputs": [
    {
     "name": "stdout",
     "output_type": "stream",
     "text": [
      "iter   0, best=[0 0 0], f=0.000000\n",
      "iter   1, best=[0 0 0], f=0.000000\n",
      "iter   2, best=[0 0 0], f=0.000000\n"
     ]
    },
    {
     "data": {
      "text/plain": [
       "(array([0, 0, 0]),\n",
       " np.int64(0),\n",
       " Simplex(vertices=[[0 0 0]\n",
       "  [0 0 0]\n",
       "  [0 0 0]\n",
       "  [0 0 0]]))"
      ]
     },
     "execution_count": 186,
     "metadata": {},
     "output_type": "execute_result"
    }
   ],
   "source": [
    "simplex = Simplex([start_f1,\n",
    "                   start_f1 + np.array([1, 0, 0]),\n",
    "                   start_f1 + np.array([0, 1, 0]),\n",
    "                   start_f1 + np.array([0, 0, 1])])\n",
    "\n",
    "min_pt = nelder_mead(f1, simplex, max_iter=1000, tol=1e-7)\n",
    "min_pt, f1(min_pt), simplex"
   ]
  },
  {
   "cell_type": "markdown",
   "id": "15b763db",
   "metadata": {},
   "source": [
    "#### F2"
   ]
  },
  {
   "cell_type": "code",
   "execution_count": null,
   "id": "dcf3a33b",
   "metadata": {},
   "outputs": [
    {
     "data": {
      "text/plain": [
       "(array([0.99999998, 0.99999997, 0.99999992]), np.float64(6.49875251054266e-15))"
      ]
     },
     "execution_count": 175,
     "metadata": {},
     "output_type": "execute_result"
    }
   ],
   "source": [
    "simplex = Simplex([start_f2,\n",
    "                   start_f2 + np.array([1, 0, 0]),\n",
    "                   start_f2 + np.array([0, 1, 0]),\n",
    "                   start_f2 + np.array([0, 0, 1])])\n",
    "\n",
    "min_pt = nelder_mead(f2, simplex, max_iter=1000, tol=1e-7)\n",
    "min_pt, f2(min_pt)"
   ]
  },
  {
   "cell_type": "markdown",
   "id": "411b9709",
   "metadata": {},
   "source": [
    "#### F3"
   ]
  },
  {
   "cell_type": "code",
   "execution_count": 176,
   "id": "936db895",
   "metadata": {},
   "outputs": [
    {
     "data": {
      "text/plain": [
       "(array([2, 0]), np.float64(0.703125))"
      ]
     },
     "execution_count": 176,
     "metadata": {},
     "output_type": "execute_result"
    }
   ],
   "source": [
    "simplex = Simplex([start_f3,\n",
    "                   start_f3 + np.array([1, 0]),\n",
    "                   start_f3 + np.array([0, 1])])\n",
    "\n",
    "min_pt = nelder_mead(f3, simplex, max_iter=1000, tol=1e-7)\n",
    "min_pt, f3(min_pt)"
   ]
  }
 ],
 "metadata": {
  "kernelspec": {
   "display_name": "Mat-II",
   "language": "python",
   "name": "python3"
  },
  "language_info": {
   "codemirror_mode": {
    "name": "ipython",
    "version": 3
   },
   "file_extension": ".py",
   "mimetype": "text/x-python",
   "name": "python",
   "nbconvert_exporter": "python",
   "pygments_lexer": "ipython3",
   "version": "3.10.15"
  }
 },
 "nbformat": 4,
 "nbformat_minor": 5
}

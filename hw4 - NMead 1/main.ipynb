{
 "cells": [
  {
   "cell_type": "markdown",
   "id": "13ec5ef0",
   "metadata": {},
   "source": [
    "# Part 1: Nelder Mead"
   ]
  },
  {
   "cell_type": "code",
   "execution_count": null,
   "id": "e7528bd8",
   "metadata": {},
   "outputs": [],
   "source": [
    "import numpy as np\n",
    "\n",
    "np.random.seed(42) \n",
    "    \n",
    "class Simplex:\n",
    "    \"\"\" For generality \"\"\"\n",
    "    def __init__(self, vertices):        \n",
    "        self.vertices = np.array(vertices)\n",
    "        self.n_dim = self.vertices[0].shape[0]  # Number of dimensions\n",
    "        \n",
    "        assert self.vertices.shape[0] == self.n_dim + 1, \"Simplex must have n+1 vertices in n dimensions\"\n",
    "        \n",
    "    def __repr__(self):\n",
    "        return f\"Simplex(vertices={self.vertices})\"\n",
    "    \n",
    "    def sort_simplex(self, func):\n",
    "        vals = [func(vertex) for vertex in self.vertices]\n",
    "        sorted_vertices = np.array([self.vertices[i] for i in np.argsort(vals)])\n",
    "        self.vertices = sorted_vertices\n",
    "            \n",
    "    def centroid(self):\n",
    "        centroid = np.mean(self.vertices[:-1], axis=0)  # Exclude the worst point      \n",
    "        return centroid\n",
    "    \n",
    "    def converged(self, tol=1e-6):\n",
    "        \"\"\" Check if the simplex has converged based on the tolerance. \"\"\"\n",
    "        return np.max(np.abs(self.vertices - np.mean(self.vertices, axis=0))) < tol\n",
    "\n",
    "    def reflect(self, c, alpha):\n",
    "        \"\"\"Reflect worst point across the centriod - also used for extension and contraction\"\"\"\n",
    "        x_w = self.vertices[-1]\n",
    "        return c + alpha * (c - x_w)\n",
    "    \n",
    "    def outside_contraction(self, c, x_r, beta):\n",
    "        return c + beta * (x_r - c)\n",
    "    \n",
    "    def inside_contraction(self, c, beta):\n",
    "        x_w = self.vertices[-1]\n",
    "        return c + beta * (x_w - c)\n",
    "    \n",
    "    def shrink(self, delta):\n",
    "        best = self.vertices[0]\n",
    "        self.vertices[1:] = best + delta*(self.vertices[1:] - best)\n",
    "\n",
    "        # best = self.vertices[0]\n",
    "        # for i in range(1, len(self.vertices)):\n",
    "        #     for dim in range(self.n_dim):\n",
    "        #         self.vertices[i, dim] = best[dim] + delta * (self.vertices[i, dim] - best[dim])\n",
    " \n",
    "    \n",
    "alpha = 1.0  # Reflection\n",
    "beta = 0.5 # Contraction\n",
    "gamma = 2.0  # Expansion\n",
    "delta = 0.5 # Shrinkage    \n",
    "    \n",
    "def nelder_mead(func, simplex: Simplex, max_iter=1000, tol=1e-6):\n",
    "    \"\"\"\n",
    "    Perform the Nelder-Mead optimization algorithm in 2D.\n",
    "\n",
    "    Parameters:\n",
    "    - func: The objective function to minimize.\n",
    "    - simplex: A list of points defining the initial simplex.\n",
    "    - max_iter: Maximum number of iterations.\n",
    "    - tol: Tolerance for convergence.\n",
    "\n",
    "    Returns:\n",
    "    - The point that minimizes the function.\n",
    "    \"\"\"\n",
    "\n",
    "    for _ in range(max_iter):\n",
    "        simplex.sort_simplex(func)\n",
    "\n",
    "        if simplex.converged(tol):\n",
    "            break\n",
    "\n",
    "        centroid = simplex.centroid()\n",
    "        \n",
    "        # Reflection & Extension\n",
    "        reflected = simplex.reflect(centroid, alpha)\n",
    "        reflected_value = func(reflected)   # Dont recompute (can precompute for all vertices each iteration)\n",
    "        \n",
    "        if reflected_value < func(simplex.vertices[-2]):\n",
    "            \n",
    "            if reflected_value < func(simplex.vertices[-3]): # Expand reflection if it was better than the second worst\n",
    "                extended = simplex.reflect(centroid, gamma)  \n",
    "\n",
    "                if func(extended) < reflected_value:\n",
    "                    simplex.vertices[-1] = extended\n",
    "                else:\n",
    "                    simplex.vertices[-1] = reflected\n",
    "            else:\n",
    "                simplex.vertices[-1] = reflected\n",
    "                \n",
    "            continue\n",
    "\n",
    "        # Contraction\n",
    "        if reflected_value >= func(simplex.vertices[-2]):\n",
    "            # Outside contraction\n",
    "            contracted = simplex.outside_contraction(centroid, reflected, beta)\n",
    "            contracted_value = func(contracted)\n",
    "            \n",
    "            if contracted_value < reflected_value:\n",
    "                simplex.vertices[-1] = contracted\n",
    "            else:\n",
    "                # Shrink\n",
    "                simplex.shrink(delta)\n",
    "        \n",
    "        else:\n",
    "            # Inside contraction\n",
    "            contracted = simplex.inside_contraction(centroid, beta)\n",
    "            contracted_value = func(contracted)\n",
    "            \n",
    "            if contracted_value < func(simplex.vertices[-1]):\n",
    "                simplex.vertices[-1] = contracted\n",
    "            else:\n",
    "                # Shrink\n",
    "                simplex.shrink(delta)\n",
    "            \n",
    "    return simplex.vertices[0]"
   ]
  },
  {
   "cell_type": "code",
   "execution_count": 114,
   "id": "5d033d79",
   "metadata": {},
   "outputs": [],
   "source": [
    "def f1(x):\n",
    "    x, y, z = x\n",
    "    return (x - z)**2 + (2*y + z)**2 + (4*x - 2*y + z)**2 + x + y\n",
    "\n",
    "start = np.array([1.2, 1.2, 1.2])"
   ]
  },
  {
   "cell_type": "code",
   "execution_count": 117,
   "id": "a33fed5c",
   "metadata": {},
   "outputs": [
    {
     "data": {
      "text/plain": [
       "(array([-0.16666671, -0.22916671,  0.1666667 ]),\n",
       " np.float64(-0.19791666666665605))"
      ]
     },
     "execution_count": 117,
     "metadata": {},
     "output_type": "execute_result"
    }
   ],
   "source": [
    "simplex = Simplex([start, start + np.array([1, 0, 0]), start + np.array([0, 1, 0]), start + np.array([0, 0, 1])])\n",
    "\n",
    "min_pt = nelder_mead(f1, simplex, max_iter=1000, tol=1e-7)\n",
    "min_pt, f1(min_pt)"
   ]
  },
  {
   "cell_type": "code",
   "execution_count": 118,
   "id": "936db895",
   "metadata": {},
   "outputs": [
    {
     "data": {
      "text/plain": [
       "Simplex(vertices=[[-0.16666671 -0.22916671  0.1666667 ]\n",
       " [-0.16666661 -0.22916666  0.16666656]\n",
       " [-0.1666667  -0.22916678  0.16666667]\n",
       " [-0.16666657 -0.22916664  0.16666663]])"
      ]
     },
     "execution_count": 118,
     "metadata": {},
     "output_type": "execute_result"
    }
   ],
   "source": [
    "simplex"
   ]
  }
 ],
 "metadata": {
  "kernelspec": {
   "display_name": "Mat-II",
   "language": "python",
   "name": "python3"
  },
  "language_info": {
   "codemirror_mode": {
    "name": "ipython",
    "version": 3
   },
   "file_extension": ".py",
   "mimetype": "text/x-python",
   "name": "python",
   "nbconvert_exporter": "python",
   "pygments_lexer": "ipython3",
   "version": "3.10.15"
  }
 },
 "nbformat": 4,
 "nbformat_minor": 5
}

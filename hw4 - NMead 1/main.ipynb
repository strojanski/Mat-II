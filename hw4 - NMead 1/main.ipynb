{
 "cells": [
  {
   "cell_type": "markdown",
   "id": "13ec5ef0",
   "metadata": {},
   "source": [
    "# Part 1: Nelder Mead"
   ]
  },
  {
   "cell_type": "code",
   "execution_count": 74,
   "id": "e7528bd8",
   "metadata": {},
   "outputs": [],
   "source": [
    "import numpy as np\n",
    "\n",
    "np.random.seed(42) \n",
    "    \n",
    "class Simplex:\n",
    "    \"\"\" For generality \"\"\"\n",
    "    def __init__(self, vertices, mode=1):        \n",
    "        self.vertices = np.array(vertices)\n",
    "        self.n_dim = self.vertices[0].shape[0]  # Number of dimensions\n",
    "        \n",
    "        assert self.vertices.shape[0] == self.n_dim + 1, \"Simplex must have n+1 vertices in n dimensions\"\n",
    "        \n",
    "        self.mode = mode\n",
    "        \n",
    "    def __repr__(self):\n",
    "        return f\"Simplex(vertices={self.vertices})\"\n",
    "    \n",
    "    def sort_simplex(self, func):\n",
    "        vals = [func(vertex, i=self.mode) for vertex in self.vertices]\n",
    "        sorted_vertices = np.array([self.vertices[i] for i in np.argsort(vals)])\n",
    "        self.vertices = sorted_vertices\n",
    "        return np.sort(vals)\n",
    "            \n",
    "    def centroid(self):\n",
    "        centroid = np.mean(self.vertices[:-1], axis=0)  # Exclude the worst point      \n",
    "        return centroid\n",
    "    \n",
    "    def converged(self, tol=1e-6):\n",
    "        \"\"\" Check if the simplex has converged based on the tolerance. \"\"\"\n",
    "        return np.max(np.abs(self.vertices - np.mean(self.vertices, axis=0))) < tol\n",
    "\n",
    "    def reflect(self, c, alpha):\n",
    "        \"\"\"Reflect worst point across the centriod - also used for extension and contraction\"\"\"\n",
    "        x_w = self.vertices[-1]\n",
    "        return c + alpha * (c - x_w)\n",
    "    \n",
    "    def contract(self, c, x_r, beta, mode=\"outside\"):\n",
    "        if mode == 'outside':\n",
    "            return c + beta * (x_r - c)\n",
    "        else:  # inside contraction\n",
    "            return c - beta * (c - self.vertices[-1])\n",
    "    \n",
    "    def diameter(self):\n",
    "        \"\"\"Compute the maximum distance between any two vertices.\"\"\"\n",
    "        return np.max(np.linalg.norm(self.vertices - self.vertices[:, np.newaxis], axis=-1))\n",
    "    \n",
    "    def shrink(self, delta):\n",
    "        self.vertices[1:] = self.vertices[0] + delta * (self.vertices[1:] - self.vertices[0])\n",
    "\n",
    " \n",
    "    \n",
    "alpha = 1.0  # Reflection\n",
    "beta = 0.5 # Contraction\n",
    "gamma = 2.0  # Expansion\n",
    "delta = 0.5 # Shrinkage    \n",
    "\n",
    "all_vertices = []\n",
    "    \n",
    "def nelder_mead(func, simplex: Simplex, max_iter=1000, tol=1e-10, verbose=False, mode=1):\n",
    "    \"\"\"\n",
    "    Perform the Nelder-Mead optimization algorithm in 2D.\n",
    "\n",
    "    Parameters:\n",
    "    - func: The objective function to minimize.\n",
    "    - simplex: A list of points defining the initial simplex.\n",
    "    - max_iter: Maximum number of iterations.\n",
    "    - tol: Tolerance for convergence.\n",
    "\n",
    "    Returns:\n",
    "    - The point that minimizes the function.\n",
    "    \"\"\"\n",
    "    no_improve = 0\n",
    "    prev_best = float(\"inf\")\n",
    "    prev_worst = float(\"inf\")\n",
    "    \n",
    "    for k in range(max_iter):\n",
    "        vals = simplex.sort_simplex(func)\n",
    "        \n",
    "        step_data = np.hstack([simplex.vertices, np.array(vals).reshape(-1,1)])\n",
    "        all_vertices.append(step_data)\n",
    "        \n",
    "        f_best, f_mid, f_worst = vals[0], vals[1], vals[-1]\n",
    "\n",
    "        diameter = simplex.diameter()\n",
    "        if diameter < tol:\n",
    "            print(f\"Converged at iteration {k}.\")\n",
    "            break\n",
    "        \n",
    "        if abs(prev_best - f_best) < tol:\n",
    "            no_improve += 1\n",
    "            if no_improve > 10:\n",
    "                print(f\"No improvement for 10 iterations, stopping at iteration {k}.\")\n",
    "                break\n",
    "            else:\n",
    "                no_improve = 0\n",
    "                prev_best = f_best\n",
    "            \n",
    "        \n",
    "        if verbose:\n",
    "            print(f\"iter {k:3d}, diameter={diameter:.12f} \")\n",
    "            print(\"Simplex vertices:\\n\", simplex.vertices)\n",
    "            print(\"Function values:\", f_best, f_mid, f_worst)\n",
    "            print(\"Diff (worst):\", prev_worst - f_worst)\n",
    "            print(\"-----------------------\\n\")\n",
    "\n",
    "        prev_worst = f_worst\n",
    "        centroid = simplex.centroid()\n",
    "        \n",
    "        # Reflection & Extension\n",
    "        reflected = simplex.reflect(centroid, alpha)\n",
    "        reflected_value = func(reflected, mode)   # Dont recompute (can precompute for all vertices each iteration)\n",
    "        \n",
    "        \n",
    "        if reflected_value < f_mid:\n",
    "            if reflected_value < f_best: # Expand reflection if it was better than the second worst\n",
    "                extended = simplex.reflect(centroid, gamma)  \n",
    "\n",
    "                if func(extended, mode) < reflected_value:\n",
    "                    simplex.vertices[-1] = extended\n",
    "                    \n",
    "                else:\n",
    "                    simplex.vertices[-1] = reflected\n",
    "            else:\n",
    "                simplex.vertices[-1] = reflected\n",
    "            \n",
    "            continue\n",
    "\n",
    "        # Contraction\n",
    "        if reflected_value >= f_mid:\n",
    "            # Outside contraction\n",
    "            contracted = simplex.contract(centroid, reflected, beta, mode='outside')\n",
    "            contracted_value = func(contracted, mode)\n",
    "            \n",
    "            if contracted_value < reflected_value:\n",
    "                simplex.vertices[-1] = contracted\n",
    "            else:\n",
    "                # Shrink\n",
    "                simplex.shrink(delta)\n",
    "        \n",
    "        else:\n",
    "            # Inside contraction\n",
    "            contracted = simplex.contract(centroid, reflected, beta, mode='inside')\n",
    "            contracted_value = func(contracted, mode)\n",
    "            \n",
    "            if contracted_value < f_worst:\n",
    "                simplex.vertices[-1] = contracted\n",
    "            else:\n",
    "                # Shrink\n",
    "                simplex.shrink(delta)\n",
    "            \n",
    "    return simplex.vertices[0]"
   ]
  },
  {
   "cell_type": "markdown",
   "id": "a4b81960",
   "metadata": {},
   "source": [
    "### Testing GD functions"
   ]
  },
  {
   "cell_type": "markdown",
   "id": "323eb916",
   "metadata": {},
   "source": [
    "The GD results were taken from the GD homework."
   ]
  },
  {
   "cell_type": "code",
   "execution_count": 65,
   "id": "5d033d79",
   "metadata": {},
   "outputs": [],
   "source": [
    "def f1(x, i=0):\n",
    "    x, y, z = x\n",
    "    return (x - z)**2 + (2*y + z)**2 + (4*x - 2*y + z)**2 + x + y\n",
    "\n",
    "start_f1 = np.array([0,0,0], dtype=float)"
   ]
  },
  {
   "cell_type": "code",
   "execution_count": 66,
   "id": "15e77e46",
   "metadata": {},
   "outputs": [],
   "source": [
    "def f2(x, i=0):\n",
    "    x,y,z = x\n",
    "    return (x - 1)**2 + (y - 1)**2 + 100*(y-x**2)**2 + 100*(z-y**2)**2\n",
    "\n",
    "start_f2 = np.array([1.2, 1.2, 1.2], dtype=float)"
   ]
  },
  {
   "cell_type": "code",
   "execution_count": 67,
   "id": "43707ce9",
   "metadata": {},
   "outputs": [],
   "source": [
    "def f3(x, i=0):\n",
    "    x,y = x\n",
    "    return (1.5 - x + x*y)**2 + (2.25 - x + x*y**2)**2 + (2.625 - x + x*y**3)**2\n",
    "\n",
    "start_f3 = np.array([1,1], dtype=float)"
   ]
  },
  {
   "cell_type": "code",
   "execution_count": 68,
   "id": "45dc49b3",
   "metadata": {},
   "outputs": [],
   "source": [
    "# x, y, (z) + f(x,y,(z)) # Approximate minimums of the functions\n",
    "# f1 minimum: [-0.16232465 -0.22244489  0.16232465 -0.19775824]\n",
    "# f2 minimum: [1.00400802 1.00400802 1.00400802 0.00327077]\n",
    "# f3 minimum: [3.00000000e+00 5.00150015e-01 5.19139201e-07]"
   ]
  },
  {
   "cell_type": "markdown",
   "id": "a8c66cc0",
   "metadata": {},
   "source": [
    "#### F1"
   ]
  },
  {
   "cell_type": "code",
   "execution_count": 100,
   "id": "807ae3cb",
   "metadata": {},
   "outputs": [],
   "source": [
    "import time"
   ]
  },
  {
   "cell_type": "code",
   "execution_count": 103,
   "id": "a33fed5c",
   "metadata": {},
   "outputs": [
    {
     "name": "stdout",
     "output_type": "stream",
     "text": [
      "Converged at iteration 99.\n",
      "Converged at iteration 99.\n",
      "Converged at iteration 99.\n",
      "Converged at iteration 99.\n",
      "Converged at iteration 99.\n",
      "Converged at iteration 99.\n",
      "Converged at iteration 99.\n",
      "Converged at iteration 99.\n",
      "Converged at iteration 99.\n",
      "Converged at iteration 99.\n",
      "7.700347900390625\n"
     ]
    },
    {
     "data": {
      "text/plain": [
       "(array([-0.16666641, -0.22917089,  0.16667391]),\n",
       " np.float64(-0.19791666633720859),\n",
       " Simplex(vertices=[[-0.16666641 -0.22917089  0.16667391]\n",
       "  [-0.16666442 -0.2291687   0.16667315]\n",
       "  [-0.16666897 -0.2291746   0.16667705]\n",
       "  [-0.16666657 -0.22916979  0.16667868]]))"
      ]
     },
     "execution_count": 103,
     "metadata": {},
     "output_type": "execute_result"
    }
   ],
   "source": [
    "t0 = time.time()\n",
    "for _ in range(10):\n",
    "    simplex = Simplex([start_f1,\n",
    "                    start_f1 + np.array([1, 0, 0], dtype=float),\n",
    "                    start_f1 + np.array([0, 1, 0], dtype=float),\n",
    "                    start_f1 + np.array([0, 0, 1], dtype=float)])\n",
    "\n",
    "    min_pt = nelder_mead(f1, simplex, max_iter=100, tol=1e-5)\n",
    "\n",
    "t_f3 = time.time() - t0 \n",
    "t_f3 /= 10\n",
    "\n",
    "print(t_f3 * 1000)\n",
    "\n",
    "min_pt, f1(min_pt), simplex"
   ]
  },
  {
   "cell_type": "markdown",
   "id": "15b763db",
   "metadata": {},
   "source": [
    "#### F2"
   ]
  },
  {
   "cell_type": "code",
   "execution_count": 102,
   "id": "dcf3a33b",
   "metadata": {},
   "outputs": [
    {
     "name": "stdout",
     "output_type": "stream",
     "text": [
      "6.9573163986206055\n"
     ]
    },
    {
     "data": {
      "text/plain": [
       "(array([0.99595354, 0.99150024, 0.98497188]),\n",
       " np.float64(0.0004672126732384441))"
      ]
     },
     "execution_count": 102,
     "metadata": {},
     "output_type": "execute_result"
    }
   ],
   "source": [
    "t0 = time.time()\n",
    "for _ in range(10):\n",
    "    simplex = Simplex([start_f2,\n",
    "                    start_f2 + np.array([1, 0, 0], dtype=float),\n",
    "                    start_f2 + np.array([0, 1, 0], dtype=float),\n",
    "                    start_f2 + np.array([0, 0, 1], dtype=float)])\n",
    "\n",
    "    min_pt = nelder_mead(f2, simplex, max_iter=100, tol=1e-5)\n",
    "    \n",
    "t_f3 = time.time() - t0 \n",
    "t_f3 /= 10\n",
    "\n",
    "print(t_f3 * 1000)\n",
    "min_pt, f2(min_pt)"
   ]
  },
  {
   "cell_type": "markdown",
   "id": "411b9709",
   "metadata": {},
   "source": [
    "#### F3"
   ]
  },
  {
   "cell_type": "code",
   "execution_count": 101,
   "id": "936db895",
   "metadata": {},
   "outputs": [
    {
     "name": "stdout",
     "output_type": "stream",
     "text": [
      "Converged at iteration 69.\n",
      "Converged at iteration 69.\n",
      "Converged at iteration 69.\n",
      "Converged at iteration 69.\n",
      "Converged at iteration 69.\n",
      "Converged at iteration 69.\n",
      "Converged at iteration 69.\n",
      "Converged at iteration 69.\n",
      "Converged at iteration 69.\n",
      "Converged at iteration 69.\n",
      "4.95142936706543\n"
     ]
    }
   ],
   "source": [
    "t0 = time.time()\n",
    "for _ in range(10):\n",
    "    simplex = Simplex([start_f3,\n",
    "                    start_f3 + np.array([1, 0], dtype=float),\n",
    "                    start_f3 + np.array([0, 1], dtype=float)])\n",
    "\n",
    "    min_pt = nelder_mead(f3, simplex, max_iter=100, tol=1e-5)\n",
    "min_pt, f3(min_pt)\n",
    "t_f3 = time.time() - t0 \n",
    "t_f3 /= 10\n",
    "\n",
    "print(t_f3 * 1000)"
   ]
  },
  {
   "cell_type": "code",
   "execution_count": null,
   "id": "1a829bbb",
   "metadata": {},
   "outputs": [
    {
     "name": "stdout",
     "output_type": "stream",
     "text": [
      "Converged at iteration 187.\n",
      "Converged at iteration 187.\n",
      "Converged at iteration 187.\n",
      "Converged at iteration 187.\n",
      "Converged at iteration 187.\n",
      "Converged at iteration 187.\n",
      "Converged at iteration 187.\n",
      "Converged at iteration 187.\n",
      "Converged at iteration 187.\n",
      "Converged at iteration 187.\n",
      "15.426063537597656\n"
     ]
    },
    {
     "data": {
      "text/plain": [
       "(array([1., 1., 1., 1., 1., 1., 1.]), np.float64(0.0))"
      ]
     },
     "execution_count": 99,
     "metadata": {},
     "output_type": "execute_result"
    }
   ],
   "source": [
    "\n",
    "# Test for higher dimensions\n",
    "def fx(x, i=0):\n",
    "    x,y,z,a,b,c,d = x\n",
    "    return (x - 1)**2 + (y - 1)**2 + (z - 1)**2 + (a - 1)**2 + (b - 1)**2 + (c - 1)**2 + (d - 1)**2\n",
    "\n",
    "start_fx = np.array([1, 1, 1, 1, 1, 1, 1], dtype=float)\n",
    "\n",
    "t0 = time.time()\n",
    "for _ in range(10):\n",
    "    simplex = Simplex([start_fx,\n",
    "                    start_fx + np.array([1, 0, 0, 0, 0, 0, 0], dtype=float),\n",
    "                    start_fx + np.array([0, 1, 0, 0, 0, 0, 0], dtype=float),\n",
    "                    start_fx + np.array([0, 0, 1, 0, 0, 0, 0], dtype=float),\n",
    "                    start_fx + np.array([0, 0, 0, 1, 0, 0, 0], dtype=float),\n",
    "                    start_fx + np.array([0, 0, 0, 0, 1, 0, 0], dtype=float),\n",
    "                    start_fx + np.array([0, 0, 0, 0, 0, 1, 0], dtype=float),\n",
    "                    start_fx + np.array([0, 0, 0, 0, 0, 0, 1], dtype=float)])\n",
    "    min_pt = nelder_mead(fx, simplex, max_iter=1000, tol=1e-7)\n",
    "time_f1 = time.time() - t0\n",
    "time_f1 /= 10\n",
    "print(time_f1 * 1000)\n",
    "min_pt, fx(min_pt)"
   ]
  },
  {
   "cell_type": "markdown",
   "id": "23759767",
   "metadata": {},
   "source": [
    "### The code for the black box optimization is in the nelder_mead.py since it had to be run as a script using WSL (problems with running .exe)\n",
    "The only difference is in the subprocess calling the function and some call optimizations"
   ]
  },
  {
   "cell_type": "code",
   "execution_count": null,
   "id": "c263e214",
   "metadata": {},
   "outputs": [
    {
     "data": {
      "text/plain": [
       "array([9.64432934e+08, 3.11164388e+08, 5.47943600e+06, 4.68265681e+05,\n",
       "       1.89049898e+05, 9.16647252e+05, 8.77257155e+04, 8.70026720e+04,\n",
       "       4.84079160e+04, 3.32163143e+04, 1.21502778e+03, 3.29247331e+02,\n",
       "       1.01992329e+02, 1.03440599e+01, 1.33804946e+01, 6.67061002e+00,\n",
       "       4.14407649e+00, 1.23915987e+00, 1.22063070e+00, 1.09640438e+00,\n",
       "       1.06042173e+00, 9.19391477e-01, 8.87189898e-01, 8.76033941e-01,\n",
       "       8.30675386e-01, 8.04464890e-01, 7.89586145e-01, 7.23351228e-01,\n",
       "       7.14673375e-01, 7.08255648e-01, 6.98872017e-01, 6.86220328e-01,\n",
       "       6.81382823e-01, 6.67433062e-01, 6.60505589e-01, 6.42229618e-01,\n",
       "       6.20670536e-01, 6.17091432e-01, 6.13256857e-01, 6.11201998e-01,\n",
       "       6.10160810e-01, 6.09283674e-01, 6.07418855e-01, 6.04417213e-01,\n",
       "       6.04393718e-01, 6.03503644e-01, 6.03424874e-01, 6.03346952e-01,\n",
       "       6.03331828e-01, 6.03238915e-01, 6.03360320e-01, 6.03214936e-01,\n",
       "       6.03163485e-01, 6.03091504e-01, 6.03073967e-01, 6.03081205e-01,\n",
       "       6.03070151e-01, 6.03045460e-01, 6.03027834e-01, 6.03009918e-01,\n",
       "       6.03014677e-01, 6.03008353e-01, 6.03008092e-01, 6.03007958e-01,\n",
       "       6.03007935e-01, 6.03005570e-01, 6.03004756e-01, 6.03004239e-01,\n",
       "       6.03003567e-01, 6.03003195e-01, 6.03003045e-01, 6.03002679e-01,\n",
       "       6.03002622e-01, 6.03002490e-01, 6.03002449e-01, 6.03002418e-01,\n",
       "       6.03002406e-01, 6.03002397e-01, 6.03002389e-01, 6.03002389e-01,\n",
       "       6.03002388e-01, 6.03002387e-01, 6.03002383e-01, 6.03002382e-01,\n",
       "       6.03002380e-01, 6.03002374e-01, 6.03002380e-01, 6.03002374e-01,\n",
       "       6.03002374e-01, 6.03002373e-01, 6.03002371e-01, 6.03002370e-01,\n",
       "       6.03002368e-01, 6.03002365e-01, 6.03002362e-01, 6.03002362e-01,\n",
       "       6.03002362e-01, 6.03002361e-01, 6.03002361e-01, 6.03002361e-01,\n",
       "       6.03002361e-01, 6.03002361e-01, 6.03002361e-01, 6.03002361e-01,\n",
       "       6.03002360e-01, 6.03002360e-01, 6.03002360e-01, 6.03002360e-01,\n",
       "       6.03002360e-01, 6.03002360e-01, 6.03002360e-01, 6.03002360e-01,\n",
       "       6.03002360e-01, 6.03002360e-01, 6.03002360e-01, 6.03002360e-01,\n",
       "       6.03002360e-01, 6.03002360e-01, 6.03002360e-01, 6.03002360e-01,\n",
       "       6.03002360e-01, 6.03002360e-01, 6.03002360e-01, 6.03002360e-01,\n",
       "       6.03002360e-01, 6.03002360e-01, 6.03002360e-01, 6.03002360e-01,\n",
       "       6.03002360e-01, 6.03002360e-01, 6.03002360e-01, 6.03002360e-01,\n",
       "       6.03002360e-01, 6.03002360e-01, 6.03002360e-01, 6.03002360e-01,\n",
       "       6.03002360e-01, 6.03002360e-01, 6.03002360e-01, 6.03002360e-01,\n",
       "       6.03002360e-01, 6.03002360e-01, 6.03002360e-01, 6.03002360e-01,\n",
       "       6.03002360e-01, 6.03002360e-01, 6.03002360e-01, 6.03002360e-01,\n",
       "       6.03002360e-01, 6.03002360e-01])"
      ]
     },
     "execution_count": 23,
     "metadata": {},
     "output_type": "execute_result"
    }
   ],
   "source": [
    "v_f1[:, 3][:, -1]"
   ]
  },
  {
   "cell_type": "code",
   "execution_count": null,
   "id": "764af3e7",
   "metadata": {},
   "outputs": [
    {
     "data": {
      "text/plain": [
       "[<matplotlib.lines.Line2D at 0x1dbff429720>]"
      ]
     },
     "execution_count": 24,
     "metadata": {},
     "output_type": "execute_result"
    },
    {
     "data": {
      "image/png": "[encoded data removed]",
      "text/plain": [
       "<Figure size 640x480 with 1 Axes>"
      ]
     },
     "metadata": {},
     "output_type": "display_data"
    }
   ],
   "source": [
    "plt.plot(v_f1[:, 3][:, -1])"
   ]
  },
  {
   "cell_type": "markdown",
   "id": "7e32d9cb",
   "metadata": {},
   "source": [
    "## Jeklo ruse"
   ]
  },
  {
   "cell_type": "code",
   "execution_count": null,
   "id": "ba6119df",
   "metadata": {},
   "outputs": [],
   "source": [
    "from itertools import combinations\n",
    "import numpy as np\n",
    "\n",
    "constraints = [\n",
    "    (np.array([3, 1]), 600),   # C1: 3x1 + x2 = 600\n",
    "    (np.array([2, 2]), 480),   # C2: 2x1 + 2x2 = 480\n",
    "    (np.array([1, 0]), 0),     # C3: x1 = 0\n",
    "    (np.array([0, 1]), 0)      # C4: x2 = 0\n",
    "]\n",
    "\n",
    "def is_feasible(x):\n",
    "    x1, x2 = x\n",
    "    return (\n",
    "        3*x1 + x2 <= 600 + 1e-8 and     # C1\n",
    "        2*x1 + 2*x2 <= 480 + 1e-8 and   # C2\n",
    "        x1 >= -1e-8 and                 # Chack nonzero\n",
    "        x2 >= -1e-8                     # Chack nonzero\n",
    "    )\n",
    "\n",
    "def objective(x1, x2):\n",
    "    return 3*x1 + 2*x2\n",
    "\n",
    "def jeklo_ruse():\n",
    "    feasible_points = []\n",
    "\n",
    "    # all combinations of 2 constraints\n",
    "    for (A1, b1), (A2, b2) in combinations(constraints, 2):\n",
    "        A = np.array([A1, A2])\n",
    "        b = np.array([b1, b2])\n",
    "        try:\n",
    "            x = np.linalg.solve(A, b)\n",
    "            if is_feasible(x):\n",
    "                cost = objective(*x)\n",
    "                feasible_points.append((x, cost))\n",
    "        except np.linalg.LinAlgError:\n",
    "            continue  # no intersection\n",
    "\n",
    "    opt_point, opt_cost = max(feasible_points, key=lambda p: p[1])\n",
    "    return opt_point, opt_cost "
   ]
  },
  {
   "cell_type": "code",
   "execution_count": null,
   "id": "e82d4239",
   "metadata": {},
   "outputs": [
    {
     "data": {
      "text/plain": [
       "(array([180.,  60.]), np.float64(660.0))"
      ]
     },
     "execution_count": 13,
     "metadata": {},
     "output_type": "execute_result"
    }
   ],
   "source": [
    "jeklo_ruse()"
   ]
  },
  {
   "cell_type": "markdown",
   "id": "e381f13d",
   "metadata": {},
   "source": [
    "Q: What if there are m variables and n constrains? How many candidate points do we get? \\\n",
    "A: we can get n over m candidate points, each point is a solution to a system of m equality constraints, but not all are feasible (some will violate some of the n-m constraints)"
   ]
  }
 ],
 "metadata": {
  "kernelspec": {
   "display_name": "Mat-II",
   "language": "python",
   "name": "python3"
  },
  "language_info": {
   "codemirror_mode": {
    "name": "ipython",
    "version": 3
   },
   "file_extension": ".py",
   "mimetype": "text/x-python",
   "name": "python",
   "nbconvert_exporter": "python",
   "pygments_lexer": "ipython3",
   "version": "3.10.15"
  }
 },
 "nbformat": 4,
 "nbformat_minor": 5
}

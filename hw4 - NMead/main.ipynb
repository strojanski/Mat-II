{
 "cells": [
  {
   "cell_type": "markdown",
   "id": "13ec5ef0",
   "metadata": {},
   "source": [
    "# Part 1: Nelder Mead"
   ]
  },
  {
   "cell_type": "code",
   "execution_count": 105,
   "id": "e7528bd8",
   "metadata": {},
   "outputs": [],
   "source": [
    "import numpy as np\n",
    "\n",
    "np.random.seed(42) \n",
    "    \n",
    "class Simplex:\n",
    "    \"\"\" For generality \"\"\"\n",
    "    def __init__(self, vertices, mode=1):        \n",
    "        self.vertices = np.array(vertices)\n",
    "        self.n_dim = self.vertices[0].shape[0]  # Number of dimensions\n",
    "        \n",
    "        assert self.vertices.shape[0] == self.n_dim + 1, \"Simplex must have n+1 vertices in n dimensions\"\n",
    "        \n",
    "        self.mode = mode\n",
    "        \n",
    "    def __repr__(self):\n",
    "        return f\"Simplex(vertices={self.vertices})\"\n",
    "    \n",
    "    def sort_simplex(self, func):\n",
    "        vals = [func(vertex, i=self.mode) for vertex in self.vertices]\n",
    "        sorted_vertices = np.array([self.vertices[i] for i in np.argsort(vals)])\n",
    "        self.vertices = sorted_vertices\n",
    "        return np.sort(vals)\n",
    "            \n",
    "    def centroid(self):\n",
    "        centroid = np.mean(self.vertices[:-1], axis=0)  # Exclude the worst point      \n",
    "        return centroid\n",
    "    \n",
    "    def converged(self, tol=1e-6):\n",
    "        \"\"\" Check if the simplex has converged based on the tolerance. \"\"\"\n",
    "        return np.max(np.abs(self.vertices - np.mean(self.vertices, axis=0))) < tol\n",
    "\n",
    "    def reflect(self, c, alpha):\n",
    "        \"\"\"Reflect worst point across the centriod - also used for extension and contraction\"\"\"\n",
    "        x_w = self.vertices[-1]\n",
    "        return c + alpha * (c - x_w)\n",
    "    \n",
    "    def contract(self, c, x_r, beta, mode=\"outside\"):\n",
    "        if mode == 'outside':\n",
    "            return c + beta * (x_r - c)\n",
    "        else:  # inside contraction\n",
    "            return c - beta * (c - self.vertices[-1])\n",
    "    \n",
    "    def diameter(self):\n",
    "        \"\"\"Compute the maximum distance between any two vertices.\"\"\"\n",
    "        return np.max(np.linalg.norm(self.vertices - self.vertices[:, np.newaxis], axis=-1))\n",
    "    \n",
    "    def shrink(self, delta):\n",
    "        self.vertices[1:] = self.vertices[0] + delta * (self.vertices[1:] - self.vertices[0])\n",
    "\n",
    " \n",
    "    \n",
    "alpha = 1.0  # Reflection\n",
    "beta = 0.5 # Contraction\n",
    "gamma = 2.0  # Expansion\n",
    "delta = 0.5 # Shrinkage    \n",
    "\n",
    "all_vertices = []\n",
    "    \n",
    "def nelder_mead(func, simplex: Simplex, max_iter=1000, tol=1e-10, verbose=False, mode=1):\n",
    "    \"\"\"\n",
    "    Perform the Nelder-Mead optimization algorithm in 2D.\n",
    "\n",
    "    Parameters:\n",
    "    - func: The objective function to minimize.\n",
    "    - simplex: A list of points defining the initial simplex.\n",
    "    - max_iter: Maximum number of iterations.\n",
    "    - tol: Tolerance for convergence.\n",
    "\n",
    "    Returns:\n",
    "    - The point that minimizes the function.\n",
    "    \"\"\"\n",
    "    no_improve = 0\n",
    "    prev_best = float(\"inf\")\n",
    "    prev_worst = float(\"inf\")\n",
    "    \n",
    "    for k in range(max_iter):\n",
    "        vals = simplex.sort_simplex(func)\n",
    "        \n",
    "        step_data = np.hstack([simplex.vertices, np.array(vals).reshape(-1,1)])\n",
    "        all_vertices.append(step_data)\n",
    "        \n",
    "        f_best, f_mid, f_worst = vals[0], vals[1], vals[-1]\n",
    "\n",
    "        diameter = simplex.diameter()\n",
    "        if diameter < tol:\n",
    "            print(f\"Converged at iteration {k}.\")\n",
    "            break\n",
    "        \n",
    "        if abs(prev_best - f_best) < tol:\n",
    "            no_improve += 1\n",
    "            if no_improve > 10:\n",
    "                print(f\"No improvement for 10 iterations, stopping at iteration {k}.\")\n",
    "                break\n",
    "            else:\n",
    "                no_improve = 0\n",
    "                prev_best = f_best\n",
    "            \n",
    "        \n",
    "        if verbose:\n",
    "            print(f\"iter {k:3d}, diameter={diameter:.12f} \")\n",
    "            print(\"Simplex vertices:\\n\", simplex.vertices)\n",
    "            print(\"Function values:\", f_best, f_mid, f_worst)\n",
    "            print(\"Diff (worst):\", prev_worst - f_worst)\n",
    "            print(\"-----------------------\\n\")\n",
    "\n",
    "        prev_worst = f_worst\n",
    "        centroid = simplex.centroid()\n",
    "        \n",
    "        # Reflection & Extension\n",
    "        reflected = simplex.reflect(centroid, alpha)\n",
    "        reflected_value = func(reflected, mode)   # Dont recompute (can precompute for all vertices each iteration)\n",
    "        \n",
    "        \n",
    "        if reflected_value < f_mid:\n",
    "            if reflected_value < f_best: # Expand reflection if it was better than the second worst\n",
    "                extended = simplex.reflect(centroid, gamma)  \n",
    "\n",
    "                if func(extended, mode) < reflected_value:\n",
    "                    simplex.vertices[-1] = extended\n",
    "                    \n",
    "                else:\n",
    "                    simplex.vertices[-1] = reflected\n",
    "            else:\n",
    "                simplex.vertices[-1] = reflected\n",
    "            \n",
    "            continue\n",
    "\n",
    "        # Contraction\n",
    "        if reflected_value >= f_mid:\n",
    "            # Outside contraction\n",
    "            contracted = simplex.contract(centroid, reflected, beta, mode='outside')\n",
    "            contracted_value = func(contracted, mode)\n",
    "            \n",
    "            if contracted_value < reflected_value:\n",
    "                simplex.vertices[-1] = contracted\n",
    "            else:\n",
    "                # Shrink\n",
    "                simplex.shrink(delta)\n",
    "        \n",
    "        else:\n",
    "            # Inside contraction\n",
    "            contracted = simplex.contract(centroid, reflected, beta, mode='inside')\n",
    "            contracted_value = func(contracted, mode)\n",
    "            \n",
    "            if contracted_value < f_worst:\n",
    "                simplex.vertices[-1] = contracted\n",
    "            else:\n",
    "                # Shrink\n",
    "                simplex.shrink(delta)\n",
    "            \n",
    "    return simplex.vertices[0]"
   ]
  },
  {
   "cell_type": "markdown",
   "id": "a4b81960",
   "metadata": {},
   "source": [
    "### Testing GD functions"
   ]
  },
  {
   "cell_type": "markdown",
   "id": "323eb916",
   "metadata": {},
   "source": [
    "The GD results were taken from the GD homework."
   ]
  },
  {
   "cell_type": "code",
   "execution_count": 106,
   "id": "5d033d79",
   "metadata": {},
   "outputs": [],
   "source": [
    "def f1(x, i=0):\n",
    "    x, y, z = x\n",
    "    return (x - z)**2 + (2*y + z)**2 + (4*x - 2*y + z)**2 + x + y\n",
    "\n",
    "start_f1 = np.array([1,1,0], dtype=float)"
   ]
  },
  {
   "cell_type": "code",
   "execution_count": 107,
   "id": "15e77e46",
   "metadata": {},
   "outputs": [],
   "source": [
    "def f2(x, i=0):\n",
    "    x,y,z = x\n",
    "    return (x - 1)**2 + (y - 1)**2 + 100*(y-x**2)**2 + 100*(z-y**2)**2\n",
    "\n",
    "start_f2 = np.array([-1, 1.2, 1.2], dtype=float)"
   ]
  },
  {
   "cell_type": "code",
   "execution_count": 108,
   "id": "43707ce9",
   "metadata": {},
   "outputs": [],
   "source": [
    "def f3(x, i=0):\n",
    "    x,y = x\n",
    "    return (1.5 - x + x*y)**2 + (2.25 - x + x*y**2)**2 + (2.625 - x + x*y**3)**2\n",
    "\n",
    "start_f3 = np.array([4.5,4.5], dtype=float)"
   ]
  },
  {
   "cell_type": "code",
   "execution_count": null,
   "id": "45dc49b3",
   "metadata": {},
   "outputs": [],
   "source": [
    "# x, y, (z) + f(x,y,(z)) # minima minimums of the functions\n",
    "# f1 minimum: [-0.16232465 -0.22244489  0.16232465 -0.19775824]\n",
    "# f2 minimum: [1.00400802 1.00400802 1.00400802 0.00327077]\n",
    "# f3 minimum: [3.00000000e+00 5.00150015e-01 5.19139201e-07]"
   ]
  },
  {
   "cell_type": "markdown",
   "id": "a8c66cc0",
   "metadata": {},
   "source": [
    "#### F1"
   ]
  },
  {
   "cell_type": "code",
   "execution_count": 110,
   "id": "807ae3cb",
   "metadata": {},
   "outputs": [],
   "source": [
    "import time"
   ]
  },
  {
   "cell_type": "code",
   "execution_count": 123,
   "id": "98aa2625",
   "metadata": {},
   "outputs": [
    {
     "name": "stdout",
     "output_type": "stream",
     "text": [
      "Converged at iteration 94.\n"
     ]
    },
    {
     "data": {
      "text/plain": [
       "np.float64(-0.197916666592037)"
      ]
     },
     "execution_count": 123,
     "metadata": {},
     "output_type": "execute_result"
    }
   ],
   "source": [
    "simplex = Simplex([start_f1,\n",
    "                    start_f1 + np.array([1, 0, 0], dtype=float),\n",
    "                    start_f1 + np.array([0, 1, 0], dtype=float),\n",
    "                    start_f1 + np.array([0, 0, 1], dtype=float)])\n",
    "\n",
    "min_pt = nelder_mead(f1, simplex, max_iter=100, tol=1e-5)\n",
    "f1(min_pt)"
   ]
  },
  {
   "cell_type": "code",
   "execution_count": 132,
   "id": "a33fed5c",
   "metadata": {},
   "outputs": [
    {
     "name": "stdout",
     "output_type": "stream",
     "text": [
      "Converged at iteration 94.\n",
      "Converged at iteration 94.\n",
      "Converged at iteration 94.\n",
      "Converged at iteration 94.\n",
      "Converged at iteration 94.\n",
      "Converged at iteration 94.\n",
      "Converged at iteration 94.\n",
      "Converged at iteration 94.\n",
      "Converged at iteration 94.\n",
      "Converged at iteration 94.\n",
      "6.552362442016602\n"
     ]
    },
    {
     "data": {
      "text/plain": [
       "(array([-0.16666531, -0.22916786,  0.16666335]),\n",
       " np.float64(-0.197916666592037),\n",
       " Simplex(vertices=[[-0.16666531 -0.22916786  0.16666335]\n",
       "  [-0.16666354 -0.22916229  0.16666206]\n",
       "  [-0.16666353 -0.2291671   0.16666538]\n",
       "  [-0.16666263 -0.22916428  0.16665824]]))"
      ]
     },
     "execution_count": 132,
     "metadata": {},
     "output_type": "execute_result"
    }
   ],
   "source": [
    "t0 = time.time()\n",
    "for _ in range(10):\n",
    "    simplex = Simplex([start_f1,\n",
    "                    start_f1 + np.array([1, 0, 0], dtype=float),\n",
    "                    start_f1 + np.array([0, 1, 0], dtype=float),\n",
    "                    start_f1 + np.array([0, 0, 1], dtype=float)])\n",
    "\n",
    "    min_pt = nelder_mead(f1, simplex, max_iter=1000, tol=1e-5)\n",
    "\n",
    "t_f3 = time.time() - t0 \n",
    "t_f3 /= 10\n",
    "\n",
    "print(t_f3 * 1000)\n",
    "\n",
    "min_pt, f1(min_pt), simplex"
   ]
  },
  {
   "cell_type": "markdown",
   "id": "15b763db",
   "metadata": {},
   "source": [
    "#### F2"
   ]
  },
  {
   "cell_type": "code",
   "execution_count": 127,
   "id": "aa3786dc",
   "metadata": {},
   "outputs": [
    {
     "data": {
      "text/plain": [
       "np.float64(2.84527952802437)"
      ]
     },
     "execution_count": 127,
     "metadata": {},
     "output_type": "execute_result"
    }
   ],
   "source": [
    "simplex = Simplex([start_f2,\n",
    "                    start_f2 + np.array([1, 0, 0], dtype=float),\n",
    "                    start_f2 + np.array([0, 1, 0], dtype=float),\n",
    "                    start_f2 + np.array([0, 0, 1], dtype=float)])\n",
    "\n",
    "min_pt = nelder_mead(f2, simplex, max_iter=100, tol=1e-5)\n",
    "\n",
    "f2(min_pt)"
   ]
  },
  {
   "cell_type": "code",
   "execution_count": 133,
   "id": "dcf3a33b",
   "metadata": {},
   "outputs": [
    {
     "name": "stdout",
     "output_type": "stream",
     "text": [
      "Converged at iteration 281.\n",
      "Converged at iteration 281.\n",
      "Converged at iteration 281.\n",
      "Converged at iteration 281.\n",
      "Converged at iteration 281.\n",
      "Converged at iteration 281.\n",
      "Converged at iteration 281.\n",
      "Converged at iteration 281.\n",
      "Converged at iteration 281.\n",
      "Converged at iteration 281.\n",
      "18.007588386535645\n"
     ]
    },
    {
     "data": {
      "text/plain": [
       "(array([1.00000022, 1.00000046, 1.00000102]),\n",
       " np.float64(1.3065709566030788e-12))"
      ]
     },
     "execution_count": 133,
     "metadata": {},
     "output_type": "execute_result"
    }
   ],
   "source": [
    "t0 = time.time()\n",
    "for _ in range(10):\n",
    "    simplex = Simplex([start_f2,\n",
    "                    start_f2 + np.array([1, 0, 0], dtype=float),\n",
    "                    start_f2 + np.array([0, 1, 0], dtype=float),\n",
    "                    start_f2 + np.array([0, 0, 1], dtype=float)])\n",
    "\n",
    "    min_pt = nelder_mead(f2, simplex, max_iter=1000, tol=1e-5)\n",
    "    \n",
    "t_f3 = time.time() - t0 \n",
    "t_f3 /= 10\n",
    "\n",
    "print(t_f3 * 1000)\n",
    "min_pt, f2(min_pt)"
   ]
  },
  {
   "cell_type": "markdown",
   "id": "411b9709",
   "metadata": {},
   "source": [
    "#### F3"
   ]
  },
  {
   "cell_type": "code",
   "execution_count": 131,
   "id": "a5754530",
   "metadata": {},
   "outputs": [
    {
     "name": "stdout",
     "output_type": "stream",
     "text": [
      "Converged at iteration 90.\n"
     ]
    },
    {
     "data": {
      "text/plain": [
       "np.float64(3.821915044307649e-12)"
      ]
     },
     "execution_count": 131,
     "metadata": {},
     "output_type": "execute_result"
    }
   ],
   "source": [
    "simplex = Simplex([start_f3,\n",
    "                    start_f3 + np.array([1, 0], dtype=float),\n",
    "                    start_f3 + np.array([0, 1], dtype=float)])\n",
    "\n",
    "min_pt = nelder_mead(f3, simplex, max_iter=100, tol=1e-5)\n",
    "f3(min_pt)"
   ]
  },
  {
   "cell_type": "code",
   "execution_count": 134,
   "id": "936db895",
   "metadata": {},
   "outputs": [
    {
     "name": "stdout",
     "output_type": "stream",
     "text": [
      "Converged at iteration 90.\n",
      "Converged at iteration 90.\n",
      "Converged at iteration 90.\n",
      "Converged at iteration 90.\n",
      "Converged at iteration 90.\n",
      "Converged at iteration 90.\n",
      "Converged at iteration 90.\n",
      "Converged at iteration 90.\n",
      "Converged at iteration 90.\n",
      "Converged at iteration 90.\n",
      "5.8452606201171875\n"
     ]
    }
   ],
   "source": [
    "t0 = time.time()\n",
    "for _ in range(10):\n",
    "    simplex = Simplex([start_f3,\n",
    "                    start_f3 + np.array([1, 0], dtype=float),\n",
    "                    start_f3 + np.array([0, 1], dtype=float)])\n",
    "\n",
    "    min_pt = nelder_mead(f3, simplex, max_iter=1000, tol=1e-5)\n",
    "min_pt, f3(min_pt)\n",
    "t_f3 = time.time() - t0 \n",
    "t_f3 /= 10\n",
    "\n",
    "print(t_f3 * 1000)"
   ]
  },
  {
   "cell_type": "code",
   "execution_count": null,
   "id": "1a829bbb",
   "metadata": {},
   "outputs": [
    {
     "name": "stdout",
     "output_type": "stream",
     "text": [
      "Converged at iteration 187.\n",
      "Converged at iteration 187.\n",
      "Converged at iteration 187.\n",
      "Converged at iteration 187.\n",
      "Converged at iteration 187.\n",
      "Converged at iteration 187.\n",
      "Converged at iteration 187.\n",
      "Converged at iteration 187.\n",
      "Converged at iteration 187.\n",
      "Converged at iteration 187.\n",
      "17.857718467712402\n"
     ]
    },
    {
     "data": {
      "text/plain": [
       "(array([1., 1., 1., 1., 1., 1., 1.]), np.float64(0.0))"
      ]
     },
     "execution_count": 114,
     "metadata": {},
     "output_type": "execute_result"
    }
   ],
   "source": [
    "# Test for higher dimensions\n",
    "def fx(x, i=0):\n",
    "    x,y,z,a,b,c,d = x\n",
    "    return (x - 1)**2 + (y - 1)**2 + (z - 1)**2 + (a - 1)**2 + (b - 1)**2 + (c - 1)**2 + (d - 1)**2\n",
    "\n",
    "start_fx = np.array([1, 1, 1, 1, 1, 1, 1], dtype=float)\n",
    "\n",
    "simplex = Simplex([start_fx,\n",
    "                start_fx + np.array([1, 0, 0, 0, 0, 0, 0], dtype=float),\n",
    "                start_fx + np.array([0, 1, 0, 0, 0, 0, 0], dtype=float),\n",
    "                start_fx + np.array([0, 0, 1, 0, 0, 0, 0], dtype=float),\n",
    "                start_fx + np.array([0, 0, 0, 1, 0, 0, 0], dtype=float),\n",
    "                start_fx + np.array([0, 0, 0, 0, 1, 0, 0], dtype=float),\n",
    "                start_fx + np.array([0, 0, 0, 0, 0, 1, 0], dtype=float),\n",
    "                start_fx + np.array([0, 0, 0, 0, 0, 0, 1], dtype=float)])\n",
    "min_pt = nelder_mead(fx, simplex, max_iter=1000, tol=1e-7)\n",
    "min_pt, fx(min_pt)"
   ]
  },
  {
   "cell_type": "markdown",
   "id": "23759767",
   "metadata": {},
   "source": [
    "### The code for the black box optimization is in the nelder_mead.py since it had to be run as a script using WSL (problems with running .exe)\n",
    "The only difference is in the subprocess calling the function and some call optimizations"
   ]
  },
  {
   "cell_type": "code",
   "execution_count": 135,
   "id": "0fb4b3d9",
   "metadata": {},
   "outputs": [],
   "source": [
    "v_f1 = np.load(\"vertices_1.npy\")\n",
    "v_f2 = np.load(\"vertices_2.npy\")\n",
    "v_f3 = np.load(\"vertices_3.npy\")"
   ]
  },
  {
   "cell_type": "code",
   "execution_count": 138,
   "id": "83a6655f",
   "metadata": {},
   "outputs": [
    {
     "data": {
      "text/plain": [
       "(150, 4, 4)"
      ]
     },
     "execution_count": 138,
     "metadata": {},
     "output_type": "execute_result"
    }
   ],
   "source": [
    "v_f1.shape"
   ]
  },
  {
   "cell_type": "code",
   "execution_count": null,
   "id": "8db04c9a",
   "metadata": {},
   "outputs": [
    {
     "data": {
      "text/plain": [
       "array([0.36446033, 0.02364461, 0.30023643, 0.60300236])"
      ]
     },
     "execution_count": 145,
     "metadata": {},
     "output_type": "execute_result"
    }
   ],
   "source": [
    "min_f1 = v_f1[-1][0]\n",
    "min_f1"
   ]
  },
  {
   "cell_type": "code",
   "execution_count": 149,
   "id": "0456d434",
   "metadata": {},
   "outputs": [
    {
     "data": {
      "text/plain": [
       "(array([ 1.92021477,  1.79988562,  2.00592061, 21.95249017]), (42, 4, 4))"
      ]
     },
     "execution_count": 149,
     "metadata": {},
     "output_type": "execute_result"
    }
   ],
   "source": [
    "min_f2 = v_f2[-1][0]\n",
    "min_f2, v_f2.shape"
   ]
  },
  {
   "cell_type": "code",
   "execution_count": null,
   "id": "0546fc83",
   "metadata": {},
   "outputs": [
    {
     "data": {
      "text/plain": [
       "(array([-2.35900879e-01,  4.57763672e-03,  5.46722412e+00,  1.01732422e+00]),\n",
       " (37, 4, 4))"
      ]
     },
     "execution_count": 173,
     "metadata": {},
     "output_type": "execute_result"
    }
   ],
   "source": [
    "min_f3 = v_f3[-1][0]\n",
    "min_f3, v_f3.shape"
   ]
  },
  {
   "cell_type": "code",
   "execution_count": 178,
   "id": "99c42a3d",
   "metadata": {},
   "outputs": [
    {
     "name": "stdout",
     "output_type": "stream",
     "text": [
      "f1 min: 0.364460325392, shape: (4,)\n",
      "f1 min: 0.023644608565, shape: (4,)\n",
      "f1 min: 0.300236428268, shape: (4,)\n",
      "f1 min: 0.603002360000, shape: (4,)\n",
      "f2 min: 1.920214765663, shape: (4,)\n",
      "f2 min: 1.799885616013, shape: (4,)\n",
      "f2 min: 2.005920612167, shape: (4,)\n",
      "f2 min: 21.952490173338, shape: (4,)\n",
      "f3 min: -0.235900878906, shape: (4,)\n",
      "f3 min: 0.004577636719, shape: (4,)\n",
      "f3 min: 5.467224121094, shape: (4,)\n",
      "f3 min: 1.017324218801, shape: (4,)\n"
     ]
    }
   ],
   "source": [
    "for i, v in enumerate([min_f1, min_f2, min_f3]):\n",
    "    for coord in v:\n",
    "        print(f\"f{i+1} min: {coord:.12f}, shape: {v.shape}\")"
   ]
  },
  {
   "cell_type": "code",
   "execution_count": 165,
   "id": "764af3e7",
   "metadata": {},
   "outputs": [],
   "source": [
    "f_vals_per_step = [v_f1[:, 0, 3], v_f2[:, 0, 3], v_f3[:, 0, 3]]\n",
    "pts_per_step = [\n",
    "    [v[:, 0, 0], v[:, 0, 1], v[:, 0, 2]]  # [x, y, z]\n",
    "    for v in [v_f1, v_f2, v_f3]\n",
    "]"
   ]
  },
  {
   "cell_type": "code",
   "execution_count": 182,
   "id": "b9d606ff",
   "metadata": {},
   "outputs": [],
   "source": [
    "import matplotlib.pyplot as plt"
   ]
  },
  {
   "cell_type": "code",
   "execution_count": 179,
   "id": "f317bfe7",
   "metadata": {},
   "outputs": [
    {
     "data": {
      "image/png": "[encoded data removed]",
      "text/plain": [
       "<Figure size 600x800 with 3 Axes>"
      ]
     },
     "metadata": {},
     "output_type": "display_data"
    }
   ],
   "source": [
    "fig, axs = plt.subplots(3, 1, figsize=(6, 8), sharex=False)\n",
    "\n",
    "for i, label in enumerate(['f1', 'f2', 'f3']):\n",
    "    axs[i].plot(f_vals_per_step[i])\n",
    "    axs[i].set_yscale('log')\n",
    "    axs[i].set_ylabel(label)\n",
    "    axs[i].grid(True)\n",
    "    axs[i].set_xlim(0, len(f_vals_per_step[i]) - 1)  # reasonable x-axis limits for each plot\n",
    "\n",
    "axs[2].set_xlabel(\"Iteration\")\n",
    "plt.tight_layout()\n",
    "plt.show()\n"
   ]
  },
  {
   "cell_type": "code",
   "execution_count": 172,
   "id": "87295d4e",
   "metadata": {},
   "outputs": [
    {
     "data": {
      "image/png": "[encoded data removed]",
      "text/plain": [
       "<Figure size 640x480 with 1 Axes>"
      ]
     },
     "metadata": {},
     "output_type": "display_data"
    }
   ],
   "source": [
    "normalized = [\n",
    "    (f - np.min(f)) / (np.max(f) - np.min(f)) for f in f_vals_per_step\n",
    "]\n",
    "\n",
    "for f, label in zip(normalized, ['f1', 'f2', 'f3']):\n",
    "    plt.plot(f, label=label)\n",
    "\n",
    "plt.xlabel(\"Iteration\")\n",
    "plt.ylabel(\"Normalized function value\")\n",
    "plt.legend()\n",
    "plt.title(\"Relative function descent\")\n",
    "plt.show()\n"
   ]
  },
  {
   "cell_type": "code",
   "execution_count": 169,
   "id": "cdb30cad",
   "metadata": {},
   "outputs": [
    {
     "data": {
      "image/png": "[encoded data removed]",
      "text/plain": [
       "<Figure size 640x480 with 1 Axes>"
      ]
     },
     "metadata": {},
     "output_type": "display_data"
    }
   ],
   "source": [
    "min_coords = [\n",
    "    (0.36446033, 0.02364461, 0.30023643),  # f1\n",
    "    (1.92021477, 1.79988562, 2.00592061),  # f2\n",
    "    (-0.02359008, 0.00457763, 5.46722412),  # f3\n",
    "]\n",
    "\n",
    "fig = plt.figure()\n",
    "ax = fig.add_subplot(111, projection='3d')\n",
    "\n",
    "colors = ['r', 'g', 'b']\n",
    "labels = ['f1', 'f2', 'f3']\n",
    "\n",
    "for (x, y, z), (x_min, y_min, z_min), c, label in zip(pts_per_step, min_coords, colors, labels):\n",
    "    ax.plot(x, y, z, color=c, label=label)\n",
    "    ax.scatter(x_min, y_min, z_min, color=c, marker='o', edgecolor='k', s=60)\n",
    "\n",
    "ax.set_xlabel('x')\n",
    "ax.set_ylabel('y')\n",
    "ax.set_zlabel('z')\n",
    "ax.legend()\n",
    "plt.show()"
   ]
  },
  {
   "cell_type": "markdown",
   "id": "7e32d9cb",
   "metadata": {},
   "source": [
    "## Jeklo ruse"
   ]
  },
  {
   "cell_type": "code",
   "execution_count": 180,
   "id": "ba6119df",
   "metadata": {},
   "outputs": [],
   "source": [
    "from itertools import combinations\n",
    "import numpy as np\n",
    "\n",
    "constraints = [\n",
    "    (np.array([3, 1]), 600),   # C1: 3x1 + x2 = 600\n",
    "    (np.array([2, 2]), 480),   # C2: 2x1 + 2x2 = 480\n",
    "    (np.array([1, 0]), 0),     # C3: x1 = 0\n",
    "    (np.array([0, 1]), 0)      # C4: x2 = 0\n",
    "]\n",
    "\n",
    "def is_feasible(x):\n",
    "    x1, x2 = x\n",
    "    return (\n",
    "        3*x1 + x2 <= 600 + 1e-8 and     # C1\n",
    "        2*x1 + 2*x2 <= 480 + 1e-8 and   # C2\n",
    "        x1 >= -1e-8 and                 # Chack nonzero\n",
    "        x2 >= -1e-8                     # Chack nonzero\n",
    "    )\n",
    "\n",
    "def objective(x1, x2):\n",
    "    return 3*x1 + 2*x2\n",
    "\n",
    "def jeklo_ruse():\n",
    "    feasible_points = []\n",
    "\n",
    "    # all combinations of 2 constraints\n",
    "    for (A1, b1), (A2, b2) in combinations(constraints, 2):\n",
    "        A = np.array([A1, A2])\n",
    "        b = np.array([b1, b2])\n",
    "        try:\n",
    "            x = np.linalg.solve(A, b)\n",
    "            if is_feasible(x):\n",
    "                cost = objective(*x)\n",
    "                feasible_points.append((x, cost))\n",
    "        except np.linalg.LinAlgError:\n",
    "            continue  # no intersection\n",
    "\n",
    "    opt_point, opt_cost = max(feasible_points, key=lambda p: p[1])\n",
    "    return opt_point, opt_cost "
   ]
  },
  {
   "cell_type": "code",
   "execution_count": 181,
   "id": "e82d4239",
   "metadata": {},
   "outputs": [
    {
     "data": {
      "text/plain": [
       "(array([180.,  60.]), np.float64(660.0))"
      ]
     },
     "execution_count": 181,
     "metadata": {},
     "output_type": "execute_result"
    }
   ],
   "source": [
    "jeklo_ruse()"
   ]
  },
  {
   "cell_type": "markdown",
   "id": "e381f13d",
   "metadata": {},
   "source": [
    "Q: What if there are m variables and n constrains? How many candidate points do we get? \\\n",
    "A: we can get n over m candidate points, each point is a solution to a system of m equality constraints, but not all are feasible (some will violate some of the n-m constraints)"
   ]
  }
 ],
 "metadata": {
  "kernelspec": {
   "display_name": "Mat-II",
   "language": "python",
   "name": "python3"
  },
  "language_info": {
   "codemirror_mode": {
    "name": "ipython",
    "version": 3
   },
   "file_extension": ".py",
   "mimetype": "text/x-python",
   "name": "python",
   "nbconvert_exporter": "python",
   "pygments_lexer": "ipython3",
   "version": "3.10.15"
  }
 },
 "nbformat": 4,
 "nbformat_minor": 5
}

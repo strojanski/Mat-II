{
 "cells": [
  {
   "cell_type": "code",
   "execution_count": 39,
   "id": "7be4bf30",
   "metadata": {},
   "outputs": [],
   "source": [
    "import numpy as np\n",
    "from scipy.linalg import solve"
   ]
  },
  {
   "cell_type": "code",
   "execution_count": 40,
   "id": "ab038d47",
   "metadata": {},
   "outputs": [],
   "source": [
    "np.random.seed(0)"
   ]
  },
  {
   "cell_type": "markdown",
   "id": "11982bdf",
   "metadata": {},
   "source": [
    "### 3. Next step solution"
   ]
  },
  {
   "cell_type": "code",
   "execution_count": 63,
   "id": "492c2b7f",
   "metadata": {},
   "outputs": [],
   "source": [
    "def interior_point_step(A, b, x, y, s, mu):\n",
    "    n = x.shape[0] \n",
    "    e = np.ones_like(x)\n",
    "\n",
    "    X = np.diag(x)\n",
    "    S_inv = np.diag(1 / s)\n",
    "\n",
    "    mu_prime = (1 - (1 / (6 * np.sqrt(n)))) * mu\n",
    "\n",
    "    M = A @ S_inv @ X @ A.T\n",
    "    rhs = b - mu_prime * A @ S_inv @ e\n",
    "    dy = np.linalg.solve(M, rhs) \n",
    "\n",
    "    ds = -A.T @ dy\n",
    "    dx = -X @ S_inv @ ds + mu_prime * S_inv @ e - x\n",
    "\n",
    "    x_prime = x + dx\n",
    "    y_prime = y + dy\n",
    "    s_prime = s + ds\n",
    "\n",
    "    return x_prime, y_prime, s_prime, mu_prime"
   ]
  },
  {
   "cell_type": "markdown",
   "id": "dcc6cb5f",
   "metadata": {},
   "source": [
    "### 9. Speed up"
   ]
  },
  {
   "cell_type": "code",
   "execution_count": 64,
   "id": "160fc23a",
   "metadata": {},
   "outputs": [],
   "source": [
    "def mehrotra_step(A, b, c, x, y, s, mu, tol=1e-10):\n",
    "   \n",
    "    n = A.shape[1]\n",
    "    e = np.ones(n)\n",
    "\n",
    "    r_b = A @ x - b                    \n",
    "    r_c = A.T @ y + s - c         \n",
    "\n",
    "    S_inv = 1.0 / s\n",
    "    X = np.diag(x)\n",
    "    XS_inv = X @ S_inv         \n",
    "\n",
    "    M = (A * XS_inv[np.newaxis, :]) @ A.T\n",
    "\n",
    "    rhs3_aff = -(x * s)        \n",
    "\n",
    "    tmp_aff = S_inv * rhs3_aff + XS_inv * r_c\n",
    "    rhs_y_aff = -r_b - A @ tmp_aff\n",
    "\n",
    "    dy_aff = np.linalg.solve(M, rhs_y_aff)\n",
    "\n",
    "    At_dy_aff = A.T @ dy_aff\n",
    "    dx_aff = S_inv * (x * At_dy_aff + rhs3_aff + x * r_c)  \n",
    "    ds_aff = -r_c - At_dy_aff\n",
    "\n",
    "    x_aff = x + dx_aff\n",
    "    s_aff = s + ds_aff\n",
    "    \n",
    "    mu_aff = np.dot(x_aff, s_aff) / n\n",
    "    sigma = (mu_aff / mu) ** 3\n",
    "\n",
    "    rhs3_agg = - (x * s) - (dx_aff * ds_aff) + sigma * mu * e \n",
    "\n",
    "    tmp = S_inv * rhs3_agg + XS_inv * r_c\n",
    "    rhs_y = -r_b - A @ tmp\n",
    "\n",
    "    dy = np.linalg.solve(M, rhs_y)\n",
    "    At_dy = A.T @ dy\n",
    "    dx = S_inv * (x * At_dy + rhs3_agg + x * r_c)\n",
    "    ds = -r_c - At_dy\n",
    "\n",
    "    x_new = x + dx\n",
    "    y_new = y + dy\n",
    "    s_new = s + ds\n",
    "\n",
    "    mu_new = np.dot(x_new, s_new) / n\n",
    "\n",
    "    return x_new, y_new, s_new, mu_new\n"
   ]
  },
  {
   "cell_type": "markdown",
   "id": "8febec20",
   "metadata": {},
   "source": [
    "### 6. Show that vectors are strictly feasiblefor X and its dual"
   ]
  },
  {
   "cell_type": "code",
   "execution_count": 65,
   "id": "ce2f8e00",
   "metadata": {},
   "outputs": [],
   "source": [
    "c = np.array([-3, -4, 0, 0, 0], dtype=float)\n",
    "\n",
    "A = np.array([[3, 3, 3, 0, 0],\n",
    "              [3, 1, 0, 1, 0],\n",
    "              [1, 4, 0, 0, 1]], dtype=float)\n",
    "\n",
    "b = np.array([4, 3, 4], dtype=float )"
   ]
  },
  {
   "cell_type": "code",
   "execution_count": 66,
   "id": "b97c20be",
   "metadata": {},
   "outputs": [],
   "source": [
    "x = np.array([2/5, 8/15, 2/5, 19/15, 22/15], dtype=float)\n",
    "y = np.array([-4/5, -4/5, -2/3], dtype=float)\n",
    "s = np.array([37/15, 28/15, 12/5, 4/5, 2/3], dtype=float)"
   ]
  },
  {
   "cell_type": "code",
   "execution_count": 45,
   "id": "956cb033",
   "metadata": {},
   "outputs": [
    {
     "name": "stdout",
     "output_type": "stream",
     "text": [
      "X is strictily positive: True\n",
      "Ax = b: True\n",
      "s is strictly positive: True\n",
      "A^T y + s = c: True\n",
      "x, y and s are strictly feasible solutions of both problem X and its dual\n"
     ]
    }
   ],
   "source": [
    "# Primal\n",
    "#  x > 0\n",
    "print(\"X is strictily positive:\", all(x > 0)) \n",
    "\n",
    "# Ax = b\n",
    "print(\"Ax = b:\", np.allclose(A @ x, b, atol=1e-10))\n",
    "\n",
    "# Dual\n",
    "# s > 0\n",
    "print(\"s is strictly positive:\", all(s > 0))\n",
    "\n",
    "# A^T y + s = c\n",
    "print(\"A^T y + s = c:\", np.allclose(A.T @ y + s, c, atol=1e-10))\n",
    "\n",
    "print(\"x, y and s are strictly feasible solutions of both problem X and its dual\")"
   ]
  },
  {
   "cell_type": "markdown",
   "id": "77ce2f1c",
   "metadata": {},
   "source": [
    "### 7. Show x,y,s are good starting solution for P_mu"
   ]
  },
  {
   "cell_type": "code",
   "execution_count": 46,
   "id": "db92321f",
   "metadata": {},
   "outputs": [
    {
     "data": {
      "text/plain": [
       "np.float64(0.9866666666666667)"
      ]
     },
     "execution_count": 46,
     "metadata": {},
     "output_type": "execute_result"
    }
   ],
   "source": [
    "n = x.shape[0]\n",
    "mu = (x @ s) / n\n",
    "mu"
   ]
  },
  {
   "cell_type": "code",
   "execution_count": 47,
   "id": "053d99a8",
   "metadata": {},
   "outputs": [
    {
     "name": "stdout",
     "output_type": "stream",
     "text": [
      "x_i * s_i = 0.9867 (mu = 0.9867)\n",
      "x_i * s_i = 0.9956 (mu = 0.9867)\n",
      "x_i * s_i = 0.9600 (mu = 0.9867)\n",
      "x_i * s_i = 1.0133 (mu = 0.9867)\n",
      "x_i * s_i = 0.9778 (mu = 0.9867)\n",
      "The vectors are a good starting solution\n",
      "Since mu is close to 1, the choice for 1 would be a good initial guess.\n"
     ]
    }
   ],
   "source": [
    "# Complementary slackness\n",
    "for xi, si in zip(x, s):\n",
    "    print(f\"x_i * s_i = {xi * si:.4f} (mu = {mu:.4f})\")\n",
    "print(\"The vectors are a good starting solution\")\n",
    "print(\"Since mu is close to 1, the choice for 1 would be a good initial guess.\")"
   ]
  },
  {
   "cell_type": "code",
   "execution_count": 48,
   "id": "0dc575a6",
   "metadata": {},
   "outputs": [
    {
     "name": "stdout",
     "output_type": "stream",
     "text": [
      "1.1252260384714425e-16\n",
      "0.009009009009008953\n",
      "-0.027027027027027088\n",
      "0.027027027027027088\n",
      "-0.009009009009009179\n"
     ]
    },
    {
     "data": {
      "text/plain": [
       "4.933333333333334"
      ]
     },
     "execution_count": 48,
     "metadata": {},
     "output_type": "execute_result"
    }
   ],
   "source": [
    "for xi, si in zip(x, s):\n",
    "    print((xi * si - mu) / mu)\n",
    "gap = float(c @ x - b @ y)\n",
    "gap"
   ]
  },
  {
   "cell_type": "markdown",
   "id": "682496b6",
   "metadata": {},
   "source": [
    "### 10. Stop heuristics "
   ]
  },
  {
   "cell_type": "code",
   "execution_count": null,
   "id": "8a366c55",
   "metadata": {},
   "outputs": [],
   "source": [
    "def verify(A, b, c, x, y, s, tol_fix=1e-10, tol=1e-14):\n",
    "    n = len(x)\n",
    "    m = A.shape[0]\n",
    "\n",
    "    fix_x = np.zeros(n, dtype=bool)\n",
    "\n",
    "    for i in range(n):\n",
    "        if x[i] * s[i] < tol_fix:\n",
    "            if abs(x[i]) < abs(s[i]):\n",
    "                fix_x[i] = True\n",
    "\n",
    "    free_x_idx = np.where(~fix_x)[0]\n",
    "\n",
    "    A_r = A[:, free_x_idx]\n",
    "    c_r = c[free_x_idx]\n",
    "\n",
    "    y_sol, _, _, _ = np.linalg.lstsq(A_r.T, c_r, rcond=None)\n",
    "\n",
    "    x_r, _, _, _ = np.linalg.lstsq(A_r, b, rcond=None)\n",
    "\n",
    "    s_r = c_r - A_r.T @ y_sol\n",
    "\n",
    "    x_new = np.zeros_like(x)\n",
    "    s_new = np.zeros_like(s)\n",
    "    y_new = y_sol\n",
    "\n",
    "    x_new[free_x_idx] = x_r\n",
    "    s_new[free_x_idx] = s_r\n",
    "\n",
    "    primal_res = np.linalg.norm(A @ x_new - b)\n",
    "    dual_res = np.linalg.norm(A.T @ y_new + s_new - c)\n",
    "\n",
    "    nonneg = np.all(x_new > -tol) and np.all(s_new > -tol)\n",
    "\n",
    "    feasible = (primal_res < tol) and (dual_res < tol) and nonneg \n",
    "    if feasible:\n",
    "        return True, x_new, y_new, s_new\n",
    "    else:\n",
    "        return False, None, None, None\n"
   ]
  },
  {
   "cell_type": "code",
   "execution_count": null,
   "id": "025c2b34",
   "metadata": {},
   "outputs": [],
   "source": [
    "\n",
    "def exact_from_zero_sets(A, b, c, x, y, s):\n",
    "    n = A.shape[1]; m = A.shape[0]\n",
    "\n",
    "    X0, S0 = [], []\n",
    "    for i in range(n):\n",
    "        if x[i] <= s[i]:\n",
    "            X0.append(i)\n",
    "        else:\n",
    "            S0.append(i)\n",
    "\n",
    "    M = np.zeros((m + n + len(X0) + len(S0), 2*n + m))\n",
    "    rhs = np.zeros(M.shape[0])\n",
    "\n",
    "    r = 0\n",
    "    # Ax = b\n",
    "    M[r:r+m, :n] = A; rhs[r:r+m] = b; r += m\n",
    "    # A^T y + s = c\n",
    "    M[r:r+n, n:n+m] = A.T\n",
    "    \n",
    "    for i in range(n): \n",
    "        M[r+i, n+m+i] = 1.0\n",
    "    \n",
    "    rhs[r:r+n] = c; r += n\n",
    "\n",
    "    for i in X0: \n",
    "        M[r, i] = 1.0; r += 1\n",
    "    \n",
    "    for i in S0: \n",
    "        M[r, n+m+i] = 1.0; r += 1\n",
    "\n",
    "    try:\n",
    "        xys = np.linalg.solve(M, rhs)\n",
    "    except:\n",
    "        return False, False, False, False   # Not optimal if we get a singular matrix\n",
    "    \n",
    "    x = xys[:n]; y = xys[n:n+m]; s = xys[n+m:]\n",
    "\n",
    "    primal = np.allclose(A@x, b, atol=1e-10)\n",
    "    dual   = np.allclose(A.T@y + s, c, atol=1e-10)\n",
    "    nonneg = np.all(x >= -1e-12) and np.all(s >= -1e-12)\n",
    "    comp   = np.all(np.abs(x*s) <= 1e-10)\n",
    "    p_obj  = float(c @ x); d_obj = float(b @ y)\n",
    "    sd_ok  = abs(p_obj - d_obj) <= 1e-9\n",
    "\n",
    "    optimal = primal and dual and nonneg and comp and sd_ok\n",
    "\n",
    "    return x, y, s, optimal\n"
   ]
  },
  {
   "cell_type": "markdown",
   "id": "571b84ed",
   "metadata": {},
   "source": [
    "### 8. Iterate next-step to convergence"
   ]
  },
  {
   "cell_type": "code",
   "execution_count": 130,
   "id": "1f54202c",
   "metadata": {},
   "outputs": [
    {
     "name": "stdout",
     "output_type": "stream",
     "text": [
      "Optimal\n",
      "x [ 0.44444444  0.88888889 -0.          0.77777778  0.        ]\n",
      "y [-8.88888889e-01  7.40148683e-17 -3.33333333e-01]\n",
      "s [0.         0.         2.66666667 0.         0.33333333]\n",
      "mu 0.20958722618285858\n",
      "Converged in 20 iterations\n"
     ]
    }
   ],
   "source": [
    "count = 0\n",
    "\n",
    "_x, _y, _s, _mu = x.copy(), y.copy(), s.copy(), mu\n",
    "while True:\n",
    "    x_prime, y_prime, s_prime, mu_prime = interior_point_step(A, b, _x, _y, _s, _mu)\n",
    "    x_fixed, y_fixed, s_fixed, optimal = exact_from_zero_sets(A, b, c, x_prime, y_prime, s_prime)\n",
    "    \n",
    "    \n",
    "    if optimal:\n",
    "        print(\"Optimal\")\n",
    "        _x, _y, _s = x_fixed, y_fixed, s_fixed\n",
    "        break\n",
    "    \n",
    "    count += 1\n",
    "\n",
    "    if np.allclose(_x, x_prime, atol=1e-20) and np.allclose(_y, y_prime, atol=1e-20) and np.allclose(_s, s_prime, atol=1e-20):\n",
    "        break\n",
    "    \n",
    "    _x, _y, _s, _mu = x_prime, y_prime, s_prime, mu_prime\n",
    "    \n",
    "print(\"x\", _x)\n",
    "print(\"y\", _y)\n",
    "print(\"s\", _s)\n",
    "print(\"mu\", _mu)\n",
    "print(f\"Converged in {count} iterations\")"
   ]
  },
  {
   "cell_type": "code",
   "execution_count": 104,
   "id": "74efb792",
   "metadata": {},
   "outputs": [
    {
     "data": {
      "text/plain": [
       "[Fraction(329, 492),\n",
       " Fraction(97, 123),\n",
       " Fraction(-61, 492),\n",
       " Fraction(101, 492),\n",
       " Fraction(29, 164)]"
      ]
     },
     "execution_count": 104,
     "metadata": {},
     "output_type": "execute_result"
    }
   ],
   "source": [
    "from fractions import Fraction\n",
    "\n",
    "def to_fraction(x):\n",
    "    return Fraction(x).limit_denominator()\n",
    "\n",
    "x_ = [to_fraction(xi) for xi in _x]\n",
    "x_"
   ]
  },
  {
   "cell_type": "code",
   "execution_count": 99,
   "id": "151c62b0",
   "metadata": {},
   "outputs": [
    {
     "name": "stdout",
     "output_type": "stream",
     "text": [
      "0.4444444444444444\n"
     ]
    }
   ],
   "source": [
    "print(4/9)"
   ]
  },
  {
   "cell_type": "code",
   "execution_count": 100,
   "id": "2077a51f",
   "metadata": {},
   "outputs": [
    {
     "name": "stdout",
     "output_type": "stream",
     "text": [
      "Test if the solution is truly exact:\n",
      "[4. 3. 4.] [4. 3. 4.]\n",
      "[-3. -4.  0.  0.  0.] [-3. -4.  0.  0.  0.]\n"
     ]
    }
   ],
   "source": [
    "print(\"Test if the solution is truly exact:\")\n",
    "print(A @ _x, b)\n",
    "print(A.T @ _y + _s, c)"
   ]
  },
  {
   "cell_type": "code",
   "execution_count": 52,
   "id": "28cdb539",
   "metadata": {},
   "outputs": [
    {
     "name": "stdout",
     "output_type": "stream",
     "text": [
      "x [ 4.44444444e-01  8.88888889e-01 -2.28301849e-22  7.77777778e-01\n",
      "  5.64335701e-20]\n",
      "y [-8.88888889e-01  2.45639555e-20 -3.33333333e-01]\n",
      "s [ 2.77932686e-22  8.99972506e-22  2.66666667e+00 -2.45639555e-20\n",
      "  3.33333333e-01]\n",
      "mu 4.117521271365709e-24\n",
      "Converged in 5 iterations\n"
     ]
    }
   ],
   "source": [
    "count = 0\n",
    "\n",
    "_x, _y, _s, _mu = x.copy(), y.copy(), s.copy(), mu\n",
    "while True:\n",
    "    x_prime, y_prime, s_prime, mu_prime = mehrotra_step(A, b, c, _x, _y, _s, _mu, tol=1e-15)\n",
    "    feasible, x_fixed, y_fixed, s_fixed = verify(A, b, c, x_prime, y_prime, s_prime)\n",
    "    \n",
    "    if feasible:\n",
    "        print(\"Optimal\")\n",
    "        _x, _y, _s = x_fixed, y_fixed, s_fixed\n",
    "        break\n",
    "    \n",
    "    count += 1\n",
    "\n",
    "    if np.allclose(_x, x_prime, atol=1e-15) and np.allclose(_y, y_prime, atol=1e-15) and np.allclose(_s, s_prime, atol=1e-15):\n",
    "        break\n",
    "    \n",
    "    _x, _y, _s, _mu = x_prime, y_prime, s_prime, mu_prime\n",
    "    \n",
    "print(\"x\", _x)\n",
    "print(\"y\", _y)\n",
    "print(\"s\", _s)\n",
    "print(\"mu\", _mu)\n",
    "print(f\"Converged in {count} iterations\")"
   ]
  },
  {
   "cell_type": "code",
   "execution_count": 53,
   "id": "f3dc33ba",
   "metadata": {},
   "outputs": [
    {
     "name": "stdout",
     "output_type": "stream",
     "text": [
      "x [4.44444444e-01 8.88888889e-01 1.55381428e-20 7.77777778e-01\n",
      " 1.24305142e-19]\n",
      "y [-8.88888889e-01 -5.32736324e-20 -3.33333333e-01]\n",
      "s [9.32288568e-20 4.66144284e-20 2.66666667e+00 5.32736324e-20\n",
      " 3.33333333e-01]\n",
      "mu 4.143504744828719e-20\n",
      "Converged in 577 iterations\n"
     ]
    }
   ],
   "source": [
    "count = 0\n",
    "\n",
    "_x, _y, _s, _mu = x.copy(), y.copy(), s.copy(), mu\n",
    "\n",
    "while True:\n",
    "    x_prime, y_prime, s_prime, mu_prime = interior_point_step(A, b, _x, _y, _s, _mu)\n",
    "    count += 1\n",
    "\n",
    "    if np.allclose(_x, x_prime, atol=1e-20) and np.allclose(_y, y_prime, atol=1e-20) and np.allclose(_s, s_prime, atol=1e-20):\n",
    "        break\n",
    "    \n",
    "    _x, _y, _s, _mu = x_prime, y_prime, s_prime, mu_prime\n",
    "    \n",
    "print(\"x\", _x)\n",
    "print(\"y\", _y)\n",
    "print(\"s\", _s)\n",
    "print(\"mu\", _mu) \n",
    "print(f\"Converged in {count} iterations\")"
   ]
  },
  {
   "cell_type": "code",
   "execution_count": 60,
   "id": "a5d16828",
   "metadata": {},
   "outputs": [
    {
     "name": "stdout",
     "output_type": "stream",
     "text": [
      "x_i * s_i = 0.000000000000000000041 (should be close to mu = 0.000000000000000000041)\n",
      "x_i * s_i = 0.000000000000000000041 (should be close to mu = 0.000000000000000000041)\n",
      "x_i * s_i = 0.000000000000000000041 (should be close to mu = 0.000000000000000000041)\n",
      "x_i * s_i = 0.000000000000000000041 (should be close to mu = 0.000000000000000000041)\n",
      "x_i * s_i = 0.000000000000000000041 (should be close to mu = 0.000000000000000000041)\n"
     ]
    }
   ],
   "source": [
    "# Check convergence\n",
    "for xi, si in zip(_x, _s):\n",
    "    print(f\"x_i * s_i = {xi * si:.21f} (should be close to mu = {_mu:.21f})\")"
   ]
  },
  {
   "cell_type": "code",
   "execution_count": 62,
   "id": "86879903",
   "metadata": {},
   "outputs": [
    {
     "name": "stdout",
     "output_type": "stream",
     "text": [
      "Solution not exact without the fix:\n",
      "[4. 3. 4.] [4. 3. 4.]\n",
      "[-3.00000000e+00 -4.00000000e+00  2.66453526e-15  0.00000000e+00\n",
      "  0.00000000e+00] [-3. -4.  0.  0.  0.]\n"
     ]
    }
   ],
   "source": [
    "print(\"Solution not exact without the fix:\")\n",
    "print(A @ _x, b)\n",
    "print(A.T @ _y + _s, c)"
   ]
  },
  {
   "cell_type": "markdown",
   "id": "f42a6bc8",
   "metadata": {},
   "source": [
    "### 12. Commercial solver: simplex vs. interior point"
   ]
  },
  {
   "cell_type": "code",
   "execution_count": 81,
   "id": "7f47c6e3",
   "metadata": {},
   "outputs": [],
   "source": [
    "from scipy.optimize import linprog\n",
    "import warnings\n",
    "\n",
    "warnings.filterwarnings(\"ignore\", category=DeprecationWarning)"
   ]
  },
  {
   "cell_type": "code",
   "execution_count": 83,
   "id": "94b5dcea",
   "metadata": {},
   "outputs": [
    {
     "data": {
      "text/plain": [
       "array([0.44444444, 0.88888889, 0.        , 0.77777778, 0.        ])"
      ]
     },
     "execution_count": 83,
     "metadata": {},
     "output_type": "execute_result"
    }
   ],
   "source": [
    "sol_simplex = linprog(c, A_eq=A, b_eq=b, method='simplex')\n",
    "sol_simplex.x"
   ]
  },
  {
   "cell_type": "code",
   "execution_count": 84,
   "id": "c62de1c4",
   "metadata": {},
   "outputs": [
    {
     "data": {
      "text/plain": [
       "array([4.44444444e-01, 8.88888889e-01, 2.08281533e-13, 7.77777778e-01,\n",
       "       1.89801273e-14])"
      ]
     },
     "execution_count": 84,
     "metadata": {},
     "output_type": "execute_result"
    }
   ],
   "source": [
    "sol_ip = linprog(c, A_eq=A, b_eq=b, method='interior-point')\n",
    "sol_ip.x"
   ]
  }
 ],
 "metadata": {
  "kernelspec": {
   "display_name": "Mat-II",
   "language": "python",
   "name": "python3"
  },
  "language_info": {
   "codemirror_mode": {
    "name": "ipython",
    "version": 3
   },
   "file_extension": ".py",
   "mimetype": "text/x-python",
   "name": "python",
   "nbconvert_exporter": "python",
   "pygments_lexer": "ipython3",
   "version": "3.10.15"
  }
 },
 "nbformat": 4,
 "nbformat_minor": 5
}

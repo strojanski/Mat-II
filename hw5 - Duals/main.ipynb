{
 "cells": [
  {
   "cell_type": "code",
   "execution_count": 16,
   "id": "7be4bf30",
   "metadata": {},
   "outputs": [],
   "source": [
    "import numpy as np\n",
    "from scipy.linalg import solve"
   ]
  },
  {
   "cell_type": "code",
   "execution_count": 20,
   "id": "ab038d47",
   "metadata": {},
   "outputs": [],
   "source": [
    "np.random.seed(0)"
   ]
  },
  {
   "cell_type": "code",
   "execution_count": 21,
   "id": "492c2b7f",
   "metadata": {},
   "outputs": [],
   "source": [
    "def interior_point_step(A, b, x, y, s, mu):\n",
    "    n = x.shape[0]  # variables\n",
    "    e = np.ones_like(x)\n",
    "\n",
    "    # Diagonal matrices\n",
    "    X = np.diag(x)\n",
    "    S_inv = np.diag(1 / s)\n",
    "\n",
    "    # Short-step update for mu\n",
    "    mu_prime = (1 - (1 / (6 * np.sqrt(n)))) * mu\n",
    "\n",
    "    # Solve (A S^{-1} X A^T) k = b - mu' * A S^{-1} e\n",
    "    M = A @ S_inv @ X @ A.T\n",
    "    rhs = b - mu_prime * A @ S_inv @ e\n",
    "    dy = np.linalg.solve(M, rhs) \n",
    "\n",
    "    ds = -A.T @ dy\n",
    "    dx = -X @ S_inv @ ds + mu_prime * S_inv @ e - x\n",
    "\n",
    "    # Update\n",
    "    x_prime = x + dx\n",
    "    y_prime = y + dy\n",
    "    s_prime = s + ds\n",
    "\n",
    "    return x_prime, y_prime, s_prime, mu_prime\n"
   ]
  },
  {
   "cell_type": "code",
   "execution_count": 18,
   "id": "e9fe0f68",
   "metadata": {},
   "outputs": [],
   "source": [
    "np.random.seed(0)\n",
    "m, n = 2, 4\n",
    "A = np.random.rand(m, n)\n",
    "b = np.random.rand(m)\n",
    "c = np.random.rand(n)\n",
    "\n",
    "# Strictly feasible starting point\n",
    "x0 = np.random.rand(n) + 1.0\n",
    "y0 = np.random.rand(m)\n",
    "s0 = np.random.rand(n) + 1.0\n",
    "mu0 = (x0 @ s0) / n"
   ]
  },
  {
   "cell_type": "code",
   "execution_count": 22,
   "id": "a5be7ad5",
   "metadata": {},
   "outputs": [
    {
     "data": {
      "text/plain": [
       "(array([ 0.73163932,  0.53785387,  1.02813365, -0.81165922]),\n",
       " array([ 2.02530982, -2.01437071]),\n",
       " array([2.51614654, 2.77021386, 1.97191022, 3.6731912 ]),\n",
       " np.float64(2.0233470621836656))"
      ]
     },
     "execution_count": 22,
     "metadata": {},
     "output_type": "execute_result"
    }
   ],
   "source": [
    "interior_point_step(A, b, x0, y0, s0, mu0)"
   ]
  }
 ],
 "metadata": {
  "kernelspec": {
   "display_name": "Mat-II",
   "language": "python",
   "name": "python3"
  },
  "language_info": {
   "codemirror_mode": {
    "name": "ipython",
    "version": 3
   },
   "file_extension": ".py",
   "mimetype": "text/x-python",
   "name": "python",
   "nbconvert_exporter": "python",
   "pygments_lexer": "ipython3",
   "version": "3.10.15"
  }
 },
 "nbformat": 4,
 "nbformat_minor": 5
}

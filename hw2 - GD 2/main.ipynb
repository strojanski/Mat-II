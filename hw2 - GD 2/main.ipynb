{
 "cells": [
  {
   "cell_type": "code",
   "execution_count": 870,
   "id": "d7dbea66",
   "metadata": {},
   "outputs": [],
   "source": [
    "import numpy as np\n",
    "import matplotlib.pyplot as plt\n",
    "import time"
   ]
  },
  {
   "cell_type": "code",
   "execution_count": 871,
   "id": "8caae505",
   "metadata": {},
   "outputs": [],
   "source": [
    "def f1(x):\n",
    "    x,y,z = x\n",
    "    return (x - z)**2 + (2*y + z)**2 + (4*x - 2*y + z)**2 + x + y\n",
    "\n",
    "def grad_f1(x):\n",
    "    x,y,z = x[0], x[1], x[2]\n",
    "    dx = 2*(x - z) + 8*(4*x - 2*y + z) + 1\n",
    "    dy = 4*(2*y + z) - 4*(4*x - 2*y + z) + 1\n",
    "    dz = -2*(x - z) + 2*(2*y + z) + 2*(4*x - 2*y + z)\n",
    "    \n",
    "    return np.array([dx, dy, dz])\n",
    "\n",
    "def hess_f1(x):\n",
    "    dxx = 34 # 2 + 32\n",
    "    dxy = -16\n",
    "    dxz = 6 #-2 + 8\n",
    "    dyy = 16\n",
    "    dyz = 0\n",
    "    dzz = 6\n",
    "    \n",
    "    return np.array([[dxx, dxy, dxz], [dxy, dyy, dyz], [dxz, dyz, dzz]])"
   ]
  },
  {
   "cell_type": "code",
   "execution_count": 872,
   "id": "08eaaa03",
   "metadata": {},
   "outputs": [
    {
     "data": {
      "text/plain": [
       "(np.int64(0),\n",
       " array([1, 1, 0]),\n",
       " array([[ 34, -16,   6],\n",
       "        [-16,  16,   0],\n",
       "        [  6,   0,   6]]))"
      ]
     },
     "execution_count": 872,
     "metadata": {},
     "output_type": "execute_result"
    }
   ],
   "source": [
    "f1_x1 = np.array([0,0,0]) \n",
    "f1(f1_x1), grad_f1(f1_x1), hess_f1(f1_x1)"
   ]
  },
  {
   "cell_type": "code",
   "execution_count": 873,
   "id": "c45d29e9",
   "metadata": {},
   "outputs": [],
   "source": [
    "def f2(x):\n",
    "    x,y,z = x\n",
    "    return (x - 1)**2 + (y - 1)**2 + 100*(y-x**2)**2 + 100*(z-y**2)**2\n",
    "\n",
    "def grad_f2(x):\n",
    "    x,y,z = x[0], x[1], x[2]\n",
    "    dx = 2*x - 2 - 400 * x * y + 400 * x**3\n",
    "    dy = 2*y - 2 + 200 * (y - x**2) - 400*z*y + 400 * y**3\n",
    "    dz = 200 * (z - y**2)\n",
    "        \n",
    "    return np.array([dx, dy, dz])\n",
    "\n",
    "def hess_f2(x):\n",
    "    x,y,z = x[0], x[1], x[2]\n",
    "    \n",
    "    dxx = 2 - 400 * y + 1200 * x**2\n",
    "    dxy = -400 * x\n",
    "    dxz = 0\n",
    "    dyy = 2 + 200 - 400 * z + 1200 * y**2\n",
    "    dyz = -400 * y\n",
    "    dzz = 200\n",
    "    return np.array([[dxx, dxy, dxz], [dxy, dyy, dyz], [dxz, dyz, dzz]])"
   ]
  },
  {
   "cell_type": "code",
   "execution_count": 874,
   "id": "6fff7db6",
   "metadata": {},
   "outputs": [
    {
     "data": {
      "text/plain": [
       "(np.float64(11.6),\n",
       " array([115.6,  67.6, -48. ]),\n",
       " array([[1250., -480.,    0.],\n",
       "        [-480., 1450., -480.],\n",
       "        [   0., -480.,  200.]]))"
      ]
     },
     "execution_count": 874,
     "metadata": {},
     "output_type": "execute_result"
    }
   ],
   "source": [
    "f2_x1 = np.array([1.2, 1.2, 1.2])\n",
    "f2(f2_x1), grad_f2(f2_x1), hess_f2(f2_x1)"
   ]
  },
  {
   "cell_type": "code",
   "execution_count": 875,
   "id": "b2ac8e5f",
   "metadata": {},
   "outputs": [],
   "source": [
    "def f3(x):\n",
    "    x,y = x\n",
    "    return (1.5 - x + x*y)**2 + (2.25 - x + x*y**2)**2 + (2.625 - x + x*y**3)**2\n",
    "\n",
    "def grad_f3(x):\n",
    "    x,y = x[0], x[1]\n",
    "    \n",
    "    dx = -12.75 * 6*x + 3*y - 4*x*y - 2*x*y**2 + 4.5*y**2 + 2*x*y**4 - 4*x*y**3 + 5.25 * y**3 + 2*x*y**6\n",
    "    dy = 3*x + 9*y*x - 4*x**2*y - 2*x**2 + 15.75*y**2 *x + 2*x**2 * y - 6 * x**2 * y**2 + 4*x**3*y**3 + 6*x**2*y**5\n",
    "    \n",
    "    return np.array([dx, dy])\n",
    "\n",
    "def hess_f3(x):\n",
    "    x,y = x[0], x[1]\n",
    "    \n",
    "    dxx = 6 - 4*y - 2*y**2 + 2*y**4 - 4*y**3 + 2*y**6\n",
    "    dxy = 3 - 4*x - 4*x*y + 9*y + 8*x*y**3 - 12*x*y**2 + 15.75*y**2 + 12*x*y**5\n",
    "    dyy = 9*x - 4*x**2 + 31.5*y*x + 2*x**2 - 12*x**2*y + 12*x**2*y**2 + 30*x**2*y**4\n",
    "    return np.array([[dxx, dxy], [dxy, dyy]])"
   ]
  },
  {
   "cell_type": "code",
   "execution_count": 876,
   "id": "b6582d41",
   "metadata": {},
   "outputs": [
    {
     "data": {
      "text/plain": [
       "(np.float64(14.203125),\n",
       " array([-69.75,  27.75]),\n",
       " array([[ 0.  , 27.75],\n",
       "        [27.75, 68.5 ]]))"
      ]
     },
     "execution_count": 876,
     "metadata": {},
     "output_type": "execute_result"
    }
   ],
   "source": [
    "f3_x1 = np.array([1,1])\n",
    "f3(f3_x1), grad_f3(f3_x1), hess_f3(f3_x1)"
   ]
  },
  {
   "cell_type": "code",
   "execution_count": 877,
   "id": "bdd8fd45",
   "metadata": {},
   "outputs": [],
   "source": [
    "def learning_rate(i):\n",
    "    return 1e-5 * 0.99**i"
   ]
  },
  {
   "cell_type": "code",
   "execution_count": 878,
   "id": "8f3a8e1b",
   "metadata": {},
   "outputs": [],
   "source": [
    "def gd(x, grad_f, lr_fn, n_steps, t=None):\n",
    "    \n",
    "    if t is not None:\n",
    "        i = 0\n",
    "        start = time.perf_counter()\n",
    "        while time.perf_counter() - start < t:\n",
    "            x = x - lr_fn(i) * grad_f(x)\n",
    "            i += 1\n",
    "    else:\n",
    "        for i in range(n_steps):\n",
    "            x = x - lr_fn(i) * grad_f(x)\n",
    "        \n",
    "    return x \n",
    "    "
   ]
  },
  {
   "cell_type": "code",
   "execution_count": 879,
   "id": "06be5673",
   "metadata": {},
   "outputs": [],
   "source": [
    "\n",
    "def polyak(x: np.ndarray, grad_f, lr_fn, mu, n_steps, t=None):\n",
    "    x_prev = x\n",
    "    \n",
    "    if t is not None:\n",
    "        start = time.perf_counter()\n",
    "        i = 0\n",
    "        while time.perf_counter() - start < t:\n",
    "            dx = grad_f(x)\n",
    "            x_new = x - lr_fn(i) * dx  + mu * (x - x_prev)\n",
    "        \n",
    "            x_prev = np.copy(x)\n",
    "            x = x_new\n",
    "            i+=1\n",
    "        print(i)\n",
    "        return x\n",
    "    else:\n",
    "        for i in range(n_steps):\n",
    "            dx = grad_f(x)\n",
    "            x_new = x - lr_fn(i) * dx  + mu * (x - x_prev)\n",
    "        \n",
    "            x_prev = x\n",
    "            x = x_new\n",
    "            i+=1\n",
    "    return x"
   ]
  },
  {
   "cell_type": "code",
   "execution_count": 880,
   "id": "42bb25bd",
   "metadata": {},
   "outputs": [],
   "source": [
    "def nesterov(x, f, grad_f, lr_fn, mu, n_steps, t=None):\n",
    "    x_prev = np.copy(x)\n",
    "    \n",
    "    if t is not None:\n",
    "        start = time.perf_counter()\n",
    "        i = 0\n",
    "        while time.perf_counter() - start < t:\n",
    "            x_ahead = x + mu * (x - x_prev)\n",
    "            dx = grad_f(x_ahead)\n",
    "            x_new = x - lr_fn(i) * dx + mu * (x - x_prev)\n",
    "    \n",
    "            x_prev = x\n",
    "            x = x_new\n",
    "            i+=1\n",
    "    else:\n",
    "        for i in range(n_steps):\n",
    "            x_ahead = x + mu * (x - x_prev)\n",
    "            dx = grad_f(x_ahead)\n",
    "            x_new = x - lr_fn(i) * dx + mu * (x - x_prev)\n",
    "    \n",
    "            x_prev = x\n",
    "            x = x_new\n",
    "            i+=1\n",
    "        \n",
    "    return x"
   ]
  },
  {
   "cell_type": "code",
   "execution_count": 920,
   "id": "044fa1ae",
   "metadata": {},
   "outputs": [],
   "source": [
    "\n",
    "def adagrad(x, grad_f, lr_fn, n_steps, eps=1e-8, t=None):\n",
    "    x = np.array(x, dtype=float)\n",
    "    n = len(x)\n",
    "    lr = .4\n",
    "    \n",
    "    grad_sq_sum = np.zeros(n)\n",
    "    \n",
    "     \n",
    "    if t is not None:\n",
    "        start = time.perf_counter()\n",
    "        i = 0\n",
    "        while time.perf_counter() - start < t:\n",
    "            grad = np.array(grad_f(x))\n",
    "        \n",
    "            # Accumulate squared gradients\n",
    "            grad_sq_sum += grad ** 2\n",
    "            \n",
    "            # Compute D_k^{-1/2}\n",
    "            D_inv_sqrt = np.diag(1.0 / (np.sqrt(grad_sq_sum) + eps))\n",
    "            # Adaptive step\n",
    "            step = lr * D_inv_sqrt @ grad\n",
    "            x_new = x - step\n",
    "            \n",
    "            x = x_new\n",
    "            i+= 1\n",
    "        print(i)\n",
    "        return x\n",
    "    else:\n",
    "        for i in range(n_steps):\n",
    "            grad = np.array(grad_f(x))\n",
    "            \n",
    "            # Accumulate squared gradients\n",
    "            grad_sq_sum += grad ** 2\n",
    "            \n",
    "            # Compute D_k^{-1/2}\n",
    "            D_inv_sqrt = np.diag(1.0 / (np.sqrt(grad_sq_sum) + eps))\n",
    "            \n",
    "            # Adaptive step\n",
    "            step = lr * D_inv_sqrt @ grad\n",
    "            x_new = x - step\n",
    "            \n",
    "            x = x_new\n",
    "\n",
    "    return x\n"
   ]
  },
  {
   "cell_type": "code",
   "execution_count": 882,
   "id": "93b767ef",
   "metadata": {},
   "outputs": [
    {
     "data": {
      "text/plain": [
       "np.float64(-0.19791666666565474)"
      ]
     },
     "execution_count": 882,
     "metadata": {},
     "output_type": "execute_result"
    }
   ],
   "source": [
    "f1(adagrad(f1_x1, grad_f1, learning_rate, 100))"
   ]
  },
  {
   "cell_type": "markdown",
   "id": "94603437",
   "metadata": {},
   "source": [
    "Newton and BFGS"
   ]
  },
  {
   "cell_type": "code",
   "execution_count": 883,
   "id": "e15c33bb",
   "metadata": {},
   "outputs": [],
   "source": [
    "import numpy as np\n",
    "\n",
    "def is_positive_definite(H):\n",
    "    try:\n",
    "        np.linalg.cholesky(H)\n",
    "        return True\n",
    "    except np.linalg.LinAlgError:\n",
    "        return False\n"
   ]
  },
  {
   "cell_type": "code",
   "execution_count": 884,
   "id": "bb4858f1",
   "metadata": {},
   "outputs": [],
   "source": [
    "def newton(x0, grad_f, hess_f, n_steps=100, t=None, lr=None):\n",
    "    x = np.array(x0, dtype=float)\n",
    "    \n",
    "    if t is not None:\n",
    "        start = time.perf_counter()\n",
    "        i = 0\n",
    "        while time.perf_counter() - start < t:\n",
    "            grad = np.array(grad_f(x))\n",
    "            hess = np.array(hess_f(x))\n",
    "            \n",
    "            hess_inv = np.linalg.inv(hess)\n",
    "            \n",
    "            lr = lr if lr is not None else learning_rate(i)\n",
    "            # Compute Newton step\n",
    "            x = x - learning_rate(i) * hess_inv @ grad\n",
    "            i += 1\n",
    "\n",
    "    else:\n",
    "        for i in range(n_steps):\n",
    "            grad = np.array(grad_f(x))\n",
    "\n",
    "            hess = np.array(hess_f(x)) + 1e-4 * np.eye(len(x))\n",
    "            \n",
    "            hess_inv = np.linalg.inv(hess)\n",
    "            \n",
    "            # Compute Newton step\n",
    "            x = x - hess_inv @ grad\n",
    "        \n",
    "    return x"
   ]
  },
  {
   "cell_type": "code",
   "execution_count": 885,
   "id": "e96eed59",
   "metadata": {},
   "outputs": [],
   "source": [
    "# minimum3(f2), print(\"Newton: \", f2(newton(np.array([0,0,0]), grad_f1, hess_f1, 100)))\n"
   ]
  },
  {
   "cell_type": "code",
   "execution_count": 886,
   "id": "e9266eef",
   "metadata": {},
   "outputs": [],
   "source": [
    "def sgd(x, grad_f, lr_fn, n_steps=100, t=None):\n",
    "    x = np.array(x, dtype=float)\n",
    "\n",
    "    for i in range(n_steps):\n",
    "        grad = grad_f(x) \n",
    "        x = x - lr_fn(i) * grad\n",
    "\n",
    "    return x\n"
   ]
  },
  {
   "cell_type": "markdown",
   "id": "68fb9f53",
   "metadata": {},
   "source": [
    "### BFGS"
   ]
  },
  {
   "cell_type": "code",
   "execution_count": 887,
   "id": "d97b3f3e",
   "metadata": {},
   "outputs": [],
   "source": [
    "def bfgs(x, grad_f, lr_fn, n_steps, t=None):\n",
    "    B = np.eye(len(x)) * 0.0001\n",
    "    grad = grad_f(x)\n",
    "\n",
    "    for i in range(n_steps):\n",
    "        x_new = x - B @ grad\n",
    "        grad_new = grad_f(x_new)\n",
    "\n",
    "        delta = (x_new - x).reshape((-1, 1))\n",
    "        gamma = (grad_new - grad).reshape((-1, 1))\n",
    "        rho = 1.0 / (delta.T @ gamma + 1e-10)\n",
    "\n",
    "        if np.isfinite(rho) and rho > 0:\n",
    "            I = np.eye(len(x))\n",
    "            B = (I - rho * delta @ gamma.T) @ B @ (I - rho * gamma @ delta.T) + rho * delta @ delta.T\n",
    "\n",
    "        x, grad = x_new, grad_new\n",
    "        # print(f\"x: {x.flatten()}, grad norm: {np.linalg.norm(grad)}\")\n",
    "\n",
    "    return x\n"
   ]
  },
  {
   "cell_type": "code",
   "execution_count": 888,
   "id": "fcabe647",
   "metadata": {},
   "outputs": [],
   "source": [
    "# bfgs(np.array([1,0,0]), grad_f1, hess_f1, 100), minimum3(f1)\n"
   ]
  },
  {
   "cell_type": "code",
   "execution_count": 889,
   "id": "ee979b90",
   "metadata": {},
   "outputs": [],
   "source": [
    "# f3(bfgs(np.array([1,0]), grad_f3, hess_f3, 100)), minimum2(f3)\n"
   ]
  },
  {
   "cell_type": "code",
   "execution_count": 890,
   "id": "f75232aa",
   "metadata": {},
   "outputs": [
    {
     "data": {
      "text/plain": [
       "array([1., 1., 1.])"
      ]
     },
     "execution_count": 890,
     "metadata": {},
     "output_type": "execute_result"
    }
   ],
   "source": [
    "bfgs(np.array([1,0,0]), grad_f2, hess_f2, 100)"
   ]
  },
  {
   "cell_type": "code",
   "execution_count": 891,
   "id": "888c851b",
   "metadata": {},
   "outputs": [],
   "source": [
    "import numpy as np\n",
    "\n",
    "def l_bfgs(x, grad_f, m=10, n_steps=100):\n",
    "    grad = grad_f(x).reshape(-1, 1)\n",
    "\n",
    "    B = []      \n",
    "    gamma = []  \n",
    "    rho = []  \n",
    "\n",
    "    for step in range(n_steps):\n",
    "        q = grad.copy()\n",
    "        alpha = []\n",
    "\n",
    "        for i in reversed(range(len(B))):\n",
    "            s_i, y_i, rho_i = B[i], gamma[i], rho[i]\n",
    "            alpha_i = rho_i * (s_i.T @ q).item()\n",
    "            alpha.append(alpha_i)\n",
    "            q = q - alpha_i * y_i\n",
    "\n",
    "        if B:\n",
    "            s_last, y_last = B[-1], gamma[-1]\n",
    "            H0 = (s_last.T @ y_last).item() / (y_last.T @ y_last).item()\n",
    "            r = H0 * q\n",
    "        else:\n",
    "            r = q\n",
    "\n",
    "        for i in range(len(B)):\n",
    "            s_i, y_i, rho_i = B[i], gamma[i], rho[i]\n",
    "            beta_i = rho_i * (y_i.T @ r).item()\n",
    "            r = r + s_i * (alpha[-(i + 1)] - beta_i)\n",
    "\n",
    "        x_new = x - r.flatten()\n",
    "        grad_new = grad_f(x_new).reshape(-1, 1)\n",
    "\n",
    "        s_k = (x_new - x).reshape(-1, 1)\n",
    "        y_k = (grad_new - grad).reshape(-1, 1)\n",
    "        ys = (y_k.T @ s_k).item()\n",
    "\n",
    "        if ys > 1e-10:  # safeguard\n",
    "            rho_k = 1.0 / ys\n",
    "            if len(B) == m:\n",
    "                B.pop(0)\n",
    "                gamma.pop(0)\n",
    "                rho.pop(0)\n",
    "            B.append(s_k)\n",
    "            gamma.append(y_k)\n",
    "            rho.append(rho_k)\n",
    "\n",
    "        x, grad = x_new, grad_new\n",
    "\n",
    "    return x\n"
   ]
  },
  {
   "cell_type": "code",
   "execution_count": 892,
   "id": "c1928654",
   "metadata": {},
   "outputs": [
    {
     "data": {
      "text/plain": [
       "np.float64(5.546678239835239e-31)"
      ]
     },
     "execution_count": 892,
     "metadata": {},
     "output_type": "execute_result"
    }
   ],
   "source": [
    "f2(bfgs(np.array([0,0,0]), grad_f2, hess_f2, 100))"
   ]
  },
  {
   "cell_type": "code",
   "execution_count": 893,
   "id": "4aa5a7ab",
   "metadata": {},
   "outputs": [
    {
     "data": {
      "text/plain": [
       "array([0.7949332 , 0.63239939, 0.4028514 ])"
      ]
     },
     "execution_count": 893,
     "metadata": {},
     "output_type": "execute_result"
    }
   ],
   "source": [
    "l_bfgs(np.array([0,0,0]), grad_f2, hess_f2, 100)\n"
   ]
  },
  {
   "cell_type": "code",
   "execution_count": 894,
   "id": "18e99798",
   "metadata": {},
   "outputs": [
    {
     "data": {
      "text/plain": [
       "np.int64(0)"
      ]
     },
     "execution_count": 894,
     "metadata": {},
     "output_type": "execute_result"
    }
   ],
   "source": [
    "f2(np.array([1,1,1]))"
   ]
  },
  {
   "cell_type": "code",
   "execution_count": 895,
   "id": "6e1becf2",
   "metadata": {},
   "outputs": [],
   "source": [
    "# minimum3(f2), print(\"BFGS: \", bfgs(np.array([0,0,0]), grad_f2, hess_f2, 100))\n"
   ]
  },
  {
   "cell_type": "markdown",
   "id": "7063c60a",
   "metadata": {},
   "source": [
    "# Testing"
   ]
  },
  {
   "cell_type": "code",
   "execution_count": 896,
   "id": "2eb0fd42",
   "metadata": {},
   "outputs": [],
   "source": [
    "def minimum2(f):\n",
    "    \"\"\"Finds approximate minimum of f(x)\"\"\"\n",
    "    xs = np.linspace(-3, 3, 1000)\n",
    "    ys = np.linspace(-3, 3, 1000)\n",
    "    X, Y = np.meshgrid(xs, ys)  \n",
    "    Z = f(np.array([X, Y]))  \n",
    "    \n",
    "    min_idx = np.unravel_index(np.argmin(Z), Z.shape)  \n",
    "    bx, by, bz = X[min_idx], Y[min_idx], Z[min_idx]\n",
    "    return np.array([bx, by, bz])"
   ]
  },
  {
   "cell_type": "code",
   "execution_count": 897,
   "id": "bf59e3de",
   "metadata": {},
   "outputs": [],
   "source": [
    "def minimum3(f):\n",
    "    \"\"\"Finds approximate minimum of f(x)\"\"\"\n",
    "    xs = np.linspace(-3, 3, 100)\n",
    "    ys = np.linspace(-3, 3, 100)\n",
    "    zs = np.linspace(-3, 3, 100)\n",
    "    \n",
    "    X, Y, Z = np.meshgrid(xs, ys, zs)  \n",
    "    W = f(np.array([X, Y, Z]))  \n",
    "    \n",
    "    min_idx = np.unravel_index(np.argmin(W), W.shape)  \n",
    "    bx, by, bz, bw = X[min_idx], Y[min_idx], Z[min_idx], W[min_idx]\n",
    "    return np.array([bx, by, bz, bw])"
   ]
  },
  {
   "cell_type": "code",
   "execution_count": 898,
   "id": "8be12379",
   "metadata": {},
   "outputs": [
    {
     "name": "stdout",
     "output_type": "stream",
     "text": [
      "f1 minimum: [-0.15151515 -0.21212121  0.15151515 -0.19651056]\n",
      "f2 minimum: [1. 1. 1. 0.]\n",
      "f3 minimum: [3.00000000e+00 5.01501502e-01 5.21242614e-05]\n"
     ]
    }
   ],
   "source": [
    "f1_xopt = minimum3(f1)\n",
    "f2_xopt = minimum3(f2)\n",
    "f3_xopt = minimum2(f3)\n",
    "print(\"f1 minimum:\", f1_xopt)\n",
    "print(\"f2 minimum:\", f2_xopt)\n",
    "print(\"f3 minimum:\", f3_xopt)"
   ]
  },
  {
   "cell_type": "code",
   "execution_count": 899,
   "id": "0293c49e",
   "metadata": {},
   "outputs": [],
   "source": [
    "def minimum(f):\n",
    "    if f == f1 or f == f2:\n",
    "        return minimum3(f)\n",
    "    return minimum2(f)"
   ]
  },
  {
   "cell_type": "code",
   "execution_count": 921,
   "id": "cac05bfb",
   "metadata": {},
   "outputs": [],
   "source": [
    "def test_steps(f, grad_f, hess_f, x0, steps):\n",
    "    print(\"True minimum\", minimum(f)[-1], \"at \", minimum(f)[:-1])\n",
    "    for step in steps:\n",
    "        print(\"Steps, \", step)\n",
    "        print(\"GD: \", f(gd(x0, grad_f, learning_rate, step)))\n",
    "        print(\"Polyak: \", f(polyak(x0, grad_f, learning_rate, 0.1, step)))\n",
    "        print(\"Nesterov: \", f(nesterov(x0, f, grad_f, learning_rate, 0.1, step)))\n",
    "        print(\"Adagrad: \", f(adagrad(x0, grad_f, learning_rate, step)))\n",
    "        # print(\"Newton: \", f(newton(x0, grad_f, hess_f, step)))\n",
    "        print()"
   ]
  },
  {
   "cell_type": "code",
   "execution_count": 922,
   "id": "351bb947",
   "metadata": {},
   "outputs": [],
   "source": [
    "def learning_rate(i):\n",
    "    return 1e-5 * 0.99**i"
   ]
  },
  {
   "cell_type": "code",
   "execution_count": 923,
   "id": "f9009436",
   "metadata": {},
   "outputs": [
    {
     "name": "stdout",
     "output_type": "stream",
     "text": [
      "True minimum 5.2124261432689534e-05 at  [3.        0.5015015]\n",
      "Steps,  2\n",
      "GD:  766.5966317471315\n",
      "Polyak:  317.3669399261159\n",
      "Nesterov:  337.8935150873536\n",
      "Adagrad:  58009.331518370884\n",
      "\n",
      "Steps,  5\n",
      "GD:  573.3181260243873\n",
      "Polyak:  234.18423832681148\n",
      "Nesterov:  251.2675637282102\n",
      "Adagrad:  30478.918874218594\n",
      "\n",
      "Steps,  10\n",
      "GD:  391.01982633597123\n",
      "Polyak:  180.14097490210202\n",
      "Nesterov:  191.6422296038764\n",
      "Adagrad:  16621.878755146845\n",
      "\n",
      "Steps,  100\n",
      "GD:  41.4483127130285\n",
      "Polyak:  27.34367484514155\n",
      "Nesterov:  28.13095223694685\n",
      "Adagrad:  1315.5377354409761\n",
      "\n"
     ]
    }
   ],
   "source": [
    "f1x0 = np.array([0, 0, 0])\n",
    "f1x1 = np.array([1, 1, 0])\n",
    "f2x0 = np.array([1.2, 1.2, 1.2])\n",
    "f2x1 = np.array([-1, 1.2, 1.2])\n",
    "f3x0 = np.array([1,1])\n",
    "f3x1 = np.array([4.5, 4.5])\n",
    "\n",
    "steps = [2, 5, 10, 100]\n",
    "f = f3\n",
    "grad_f = grad_f3\n",
    "hess_f = hess_f3\n",
    "\n",
    "test_steps(f, grad_f, hess_f, f3x1, steps)"
   ]
  },
  {
   "cell_type": "code",
   "execution_count": 645,
   "id": "9e10ac6e",
   "metadata": {},
   "outputs": [],
   "source": [
    "# test_steps(f, grad_f, hess_f, f1x1, steps)"
   ]
  },
  {
   "cell_type": "code",
   "execution_count": 646,
   "id": "f765bb73",
   "metadata": {},
   "outputs": [],
   "source": [
    "def learning_rate(i):\n",
    "    return 0.001 * 0.99**i"
   ]
  },
  {
   "cell_type": "code",
   "execution_count": 647,
   "id": "b8c15a1b",
   "metadata": {},
   "outputs": [
    {
     "name": "stdout",
     "output_type": "stream",
     "text": [
      "[1.2 1.2 1.2]\n",
      "True minimum 0.0 at  [1. 1. 1.]\n",
      "Steps,  2\n",
      "GD:  0.04360204395724923\n",
      "Polyak:  0.029878998002554\n",
      "Nesterov:  0.02673542046251252\n",
      "Adagrad:  11.212136336931973\n",
      "Newton:  6.486502125611452\n",
      "\n",
      "Steps,  5\n",
      "GD:  0.018222098858116126\n",
      "Polyak:  0.018111957810387373\n",
      "Nesterov:  0.01825287933581621\n",
      "Adagrad:  10.884354328434366\n",
      "Newton:  7.82723804484026\n",
      "\n",
      "Steps,  10\n",
      "GD:  0.018114796902295175\n",
      "Polyak:  0.018026193463732743\n",
      "Nesterov:  0.018042756516489775\n",
      "Adagrad:  10.524769246910026\n",
      "Newton:  32.57752757205745\n",
      "\n",
      "Steps,  100\n",
      "GD:  0.017367128919067866\n",
      "Polyak:  0.017199958422235238\n",
      "Nesterov:  0.01721471000097329\n",
      "Adagrad:  8.795304386701261\n",
      "Newton:  3523.7010595623265\n",
      "\n"
     ]
    }
   ],
   "source": [
    "f = f2\n",
    "grad_f = grad_f2\n",
    "hess_f = hess_f2\n",
    "\n",
    "print(f2x0)\n",
    "test_steps(f, grad_f, hess_f, f2x0, steps)"
   ]
  },
  {
   "cell_type": "code",
   "execution_count": 648,
   "id": "5f03af44",
   "metadata": {},
   "outputs": [
    {
     "name": "stdout",
     "output_type": "stream",
     "text": [
      "True minimum 0.0 at  [1. 1. 1.]\n",
      "Steps,  2\n",
      "GD:  5.229583521614642\n",
      "Polyak:  4.478010157939434\n",
      "Nesterov:  5.73751903199277\n",
      "Adagrad:  13.332066264049159\n",
      "Newton:  13.335799674114092\n",
      "\n",
      "Steps,  5\n",
      "GD:  4.227341057837024\n",
      "Polyak:  4.206751434677671\n",
      "Nesterov:  4.320012289083483\n",
      "Adagrad:  12.938862640765567\n",
      "Newton:  20.325429321856642\n",
      "\n",
      "Steps,  10\n",
      "GD:  4.20332860424492\n",
      "Polyak:  4.202417733869578\n",
      "Nesterov:  4.200249207030582\n",
      "Adagrad:  12.50992146936056\n",
      "Newton:  47.99574664249103\n",
      "\n",
      "Steps,  100\n",
      "GD:  4.162038855665383\n",
      "Polyak:  4.156500293012095\n",
      "Nesterov:  4.153848805697812\n",
      "Adagrad:  10.487659531267003\n",
      "Newton:  3589.711514754642\n",
      "\n"
     ]
    }
   ],
   "source": [
    "test_steps(f, grad_f, hess_f, f2x1, steps)"
   ]
  },
  {
   "cell_type": "code",
   "execution_count": 649,
   "id": "81bf0a29",
   "metadata": {},
   "outputs": [],
   "source": [
    "def learning_rate(i):\n",
    "    return 0.00002 * 0.99**i"
   ]
  },
  {
   "cell_type": "code",
   "execution_count": 650,
   "id": "2e04b971",
   "metadata": {},
   "outputs": [
    {
     "name": "stdout",
     "output_type": "stream",
     "text": [
      "True minimum 5.2124261432689534e-05 at  [3.        0.5015015]\n",
      "Steps,  2\n",
      "GD:  14.172429833366285\n",
      "Polyak:  14.170885263029238\n",
      "Nesterov:  14.170884914992083\n",
      "Adagrad:  14.20218149283947\n",
      "Newton:  14.196702713495865\n",
      "\n",
      "Steps,  5\n",
      "GD:  14.127347739705236\n",
      "Polyak:  14.120737629445859\n",
      "Nesterov:  14.120735973611062\n",
      "Adagrad:  14.201359799053826\n",
      "Newton:  14.24856149388566\n",
      "\n",
      "Steps,  10\n",
      "GD:  14.054718428955553\n",
      "Polyak:  14.03986085307536\n",
      "Nesterov:  14.039856892179442\n",
      "Adagrad:  14.200432977586338\n",
      "Newton:  14.203125211194463\n",
      "\n",
      "Steps,  100\n",
      "GD:  13.175395207257178\n",
      "Polyak:  13.055663113603089\n",
      "Nesterov:  13.055622129439703\n",
      "Adagrad:  14.19557041905663\n",
      "Newton:  14.203125\n",
      "\n"
     ]
    }
   ],
   "source": [
    "f = f3\n",
    "grad_f = grad_f3\n",
    "hess_f = hess_f3\n",
    "\n",
    "test_steps(f, grad_f, hess_f, f3x0, steps)"
   ]
  },
  {
   "cell_type": "code",
   "execution_count": 651,
   "id": "fa674423",
   "metadata": {},
   "outputs": [
    {
     "name": "stdout",
     "output_type": "stream",
     "text": [
      "True minimum 5.2124261432689534e-05 at  [3.        0.5015015]\n",
      "Steps,  2\n",
      "GD:  12.43281596089588\n",
      "Polyak:  48.929151079532424\n",
      "Nesterov:  48.26973667113842\n",
      "Adagrad:  174802.90334024787\n",
      "Newton:  174787.39590967732\n",
      "\n",
      "Steps,  5\n",
      "GD:  12.513887697772656\n",
      "Polyak:  55.536960158281005\n",
      "Nesterov:  54.584161483235654\n",
      "Adagrad:  174793.794192175\n",
      "Newton:  174748.44359514368\n",
      "\n",
      "Steps,  10\n",
      "GD:  12.646195813283086\n",
      "Polyak:  51.47237658916009\n",
      "Nesterov:  50.672956432744265\n",
      "Adagrad:  174783.51999161392\n",
      "Newton:  174683.519713985\n",
      "\n",
      "Steps,  100\n",
      "GD:  14.418963181952417\n",
      "Polyak:  30.205778485525904\n",
      "Nesterov:  30.018365665044307\n",
      "Adagrad:  174729.62288745432\n",
      "Newton:  173514.16284713175\n",
      "\n"
     ]
    }
   ],
   "source": [
    "test_steps(f, grad_f, hess_f, f3x1, steps)\n"
   ]
  },
  {
   "cell_type": "code",
   "execution_count": 669,
   "id": "6b4c5f31",
   "metadata": {},
   "outputs": [],
   "source": [
    "def test_time(f, grad_f, hess_f, x0, step, times):\n",
    "    print(\"True minimum\", f2_xopt[-1])\n",
    "    for _time in times:\n",
    "        print(\"Time, \", _time)\n",
    "        print(\"GD: \", f(gd(x0, grad_f, learning_rate, step, t=_time)))\n",
    "        print(\"Polyak: \", f(polyak(x0, grad_f, learning_rate, 0.1, step, t=_time)))\n",
    "        print(\"Nesterov: \", f(nesterov(x0, f, grad_f, learning_rate, 0.1, step, t=_time)))\n",
    "        print(\"Adagrad: \", f(adagrad(x0, grad_f, learning_rate, 0.1, step, t=_time)))\n",
    "        print(\"Newton: \", f(newton(x0, grad_f, hess_f, step, t=_time)))\n",
    "        print()"
   ]
  },
  {
   "cell_type": "code",
   "execution_count": 670,
   "id": "6f651e03",
   "metadata": {},
   "outputs": [],
   "source": [
    "def learning_rate(i):\n",
    "    return 1e-7 * 0.99**i"
   ]
  },
  {
   "cell_type": "code",
   "execution_count": 964,
   "id": "b7546db1",
   "metadata": {},
   "outputs": [
    {
     "name": "stdout",
     "output_type": "stream",
     "text": [
      "True minimum 0.0\n",
      "Time,  0.1\n",
      "GD:  13.401122498587917\n",
      "10173\n",
      "Polyak:  13.308054412396082\n",
      "Nesterov:  13.308043500912778\n",
      "6472\n",
      "Adagrad:  14.203125\n",
      "Newton:  14.271969731748074\n",
      "\n",
      "Time,  1\n",
      "GD:  13.401122498587917\n",
      "104063\n",
      "Polyak:  13.308054412396082\n",
      "Nesterov:  13.308043500912778\n",
      "69033\n",
      "Adagrad:  14.203125\n",
      "Newton:  14.271969731748074\n",
      "\n",
      "Time,  2\n",
      "GD:  13.401122498587917\n",
      "207707\n",
      "Polyak:  13.308054412396082\n",
      "Nesterov:  13.308043500912778\n",
      "139561\n",
      "Adagrad:  14.203125\n",
      "Newton:  14.271969731748074\n",
      "\n"
     ]
    }
   ],
   "source": [
    "import time \n",
    "\n",
    "\n",
    "times = [.1, 1, 2]\n",
    "f = f3\n",
    "grad_f = grad_f3\n",
    "hess_f = hess_f3\n",
    "step = np.inf\n",
    "test_time(f, grad_f, hess_f, f3x0, step, times)\n"
   ]
  },
  {
   "cell_type": "code",
   "execution_count": null,
   "id": "936b8f1d",
   "metadata": {},
   "outputs": [],
   "source": []
  },
  {
   "cell_type": "markdown",
   "id": "a11a2447",
   "metadata": {},
   "source": [
    "### Linear regression"
   ]
  },
  {
   "cell_type": "code",
   "execution_count": 796,
   "id": "1a412aeb",
   "metadata": {},
   "outputs": [],
   "source": [
    "def get_data(N):\n",
    "    np.random.seed(0)\n",
    "    return np.array([np.array([i, i + np.random.random(1).item()]) for i in range(N)])"
   ]
  },
  {
   "cell_type": "code",
   "execution_count": null,
   "id": "4be77daa",
   "metadata": {},
   "outputs": [],
   "source": [
    "class LinearRegression:\n",
    "    def __init__(self, steps=1000, base_lr=1e-3):\n",
    "        self.coef_ = None\n",
    "        self.intercept_ = None\n",
    "        self.mu = 0.05\n",
    "        self.steps = steps\n",
    "        self.lr = lambda x: base_lr * 0.99**x #if lr is None else lr\n",
    "\n",
    "    def gd(self, theta, loss_grad, lr_fn=None):\n",
    "        return gd(theta, loss_grad, self.lr, self.steps)\n",
    "    \n",
    "    def newton(self, theta, loss_grad, hess_grad, lr):\n",
    "        return newton(theta, loss_grad, hess_grad, self.steps, lr=self.lr)\n",
    "\n",
    "    def sgd(self, theta, grad_f, lr_fn):\n",
    "        return sgd(theta, grad_f, self.lr, n_steps=self.steps)\n",
    "\n",
    "    def bfgs(self, theta, grad_f, lr_fn):\n",
    "        return bfgs(theta, grad_f, self.lr, n_steps=self.steps)\n",
    "\n",
    "    def l_bfgs(self, theta, grad_f, lr_fn):\n",
    "        return l_bfgs(theta, grad_f, self.lr, n_steps=self.steps)\n",
    "\n",
    "\n",
    "    def fit(self, X, y, lr_fn=None, t=None):\n",
    "        X = np.asarray(X)\n",
    "        y = np.asarray(y)\n",
    "\n",
    "        n_samples, n_features = X.shape\n",
    "\n",
    "        # Add bias column\n",
    "        X_aug = np.hstack([X, np.ones((n_samples, 1))])\n",
    "        theta = np.array([0,0])#np.random.rand(n_features + 1)\n",
    "\n",
    "        def loss_grad(theta):\n",
    "            print(theta)\n",
    "            preds = X_aug @ theta\n",
    "            grad = (2 / n_samples) * X_aug.T @ (preds - y)\n",
    "\n",
    "            # Print least squares\n",
    "            loss = np.mean((preds - y) ** 2)\n",
    "            print(\"Loss:\", loss)\n",
    "\n",
    "            return grad\n",
    "        \n",
    "        def sgd_loss_grad(theta):\n",
    "            i = np.random.randint(n_samples)\n",
    "            Xi = X_aug[i:i+1]  # shape (1, d+1)\n",
    "            yi = y[i]\n",
    "            \n",
    "            pred = Xi @ theta\n",
    "            \n",
    "            print(theta)\n",
    "            loss = np.mean((X_aug @ theta - y) ** 2)\n",
    "            print(\"Loss:\", loss)\n",
    "            \n",
    "            return 2 * Xi.T @ (pred - yi)  # shape (d+1,)\n",
    "\n",
    "        def loss_hessian(theta):\n",
    "            return (2 / n_samples) * X_aug.T @ X_aug\n",
    "\n",
    "        # theta_opt = self.gd(theta, loss_grad, self.lr)\n",
    "        theta_opt = self.newton(theta, loss_grad, loss_hessian, .5)\n",
    "        # theta_opt = self.sgd(theta, sgd_loss_grad, lr_fn)\n",
    "        # theta_opt = self.bfgs(theta, loss_grad, lr_fn)\n",
    "        # theta_opt = self.l_bfgs(theta, loss_grad, lr_fn)\n",
    "        \n",
    "        self.coef_ = theta_opt[:-1]\n",
    "        self.intercept_ = theta_opt[-1]\n",
    "\n",
    "    def predict(self, X):\n",
    "        X = np.asarray(X)\n",
    "        return X @ self.coef_ + self.intercept_\n"
   ]
  },
  {
   "cell_type": "code",
   "execution_count": 961,
   "id": "0ffa08a2",
   "metadata": {},
   "outputs": [
    {
     "name": "stdout",
     "output_type": "stream",
     "text": [
      "[0. 0.]\n",
      "Loss: 3333333399.4732695\n",
      "[3.17402651e-01 7.96753399e-06]\n",
      "Loss: 1553141344.8653238\n",
      "[5.09614115e-01 1.30644941e-05]\n",
      "Loss: 801606913.8428366\n",
      "[1.36998646e+00 2.21586663e-05]\n",
      "Loss: 456274564.73433053\n",
      "[8.44101052e-01 1.60139248e-05]\n",
      "Loss: 81021529.60915413\n",
      "[9.89154150e-01 1.80983505e-05]\n",
      "Loss: 392645.65737526317\n",
      "[1.0054399e+00 1.8281666e-05]\n",
      "Loss: 98368.32059373456\n",
      "[1.00376954e+00 1.82403664e-05]\n",
      "Loss: 47175.67160862663\n",
      "[1.00348139e+00 1.82261622e-05]\n",
      "Loss: 40225.76661935088\n",
      "[1.00015656e+00 1.81800154e-05]\n",
      "Loss: 74.195202394368\n",
      "[1.00015644e+00 1.81799893e-05]\n",
      "Loss: 74.08264288668461\n",
      "[1.00015200e+00 1.81796989e-05]\n",
      "Loss: 69.73277238034764\n",
      "[1.00015074e+00 1.81795420e-05]\n",
      "Loss: 68.5279803347919\n",
      "[1.00014859e+00 1.81793537e-05]\n",
      "Loss: 66.49008165976012\n",
      "[9.99926101e-01 1.81769511e-05]\n",
      "Loss: 22.235948480517166\n",
      "[9.99967540e-01 1.81777301e-05]\n",
      "Loss: 5.470272917355287\n",
      "[9.99981968e-01 1.81780935e-05]\n",
      "Loss: 2.3196341969391443\n",
      "[1.00000354e+00 1.81784101e-05]\n",
      "Loss: 0.19764557255927728\n",
      "[1.00000424e+00 1.81784463e-05]\n",
      "Loss: 0.1806260056281594\n",
      "[1.00000136e+00 1.81784087e-05]\n",
      "Loss: 0.27105051208145986\n",
      "[1.00000360e+00 1.81785038e-05]\n",
      "Loss: 0.19599648126268857\n",
      "[1.00001068e+00 1.81785760e-05]\n",
      "Loss: 0.17846110012831895\n",
      "[9.99998172e-01 1.81784434e-05]\n",
      "Loss: 0.43565271765099145\n",
      "[1.00000029e+00 1.81785076e-05]\n",
      "Loss: 0.3187607532278258\n",
      "[1.00000315e+00 1.81785655e-05]\n",
      "Loss: 0.20853363719967924\n",
      "[1.00000346e+00 1.81785700e-05]\n",
      "Loss: 0.19968512439067998\n",
      "[1.00000508e+00 1.81786309e-05]\n",
      "Loss: 0.16468455564677667\n",
      "[1.00000632e+00 1.81787171e-05]\n",
      "Loss: 0.1497982217540828\n",
      "[1.00000858e+00 1.81788306e-05]\n",
      "Loss: 0.14883331768342248\n",
      "[1.00000925e+00 1.81788637e-05]\n",
      "Loss: 0.1551091189143452\n",
      "[1.00000964e+00 1.81789013e-05]\n",
      "Loss: 0.16021877043586982\n",
      "[1.00000333e+00 1.81788280e-05]\n",
      "Loss: 0.20319678953545886\n",
      "[1.00000350e+00 1.81788475e-05]\n",
      "Loss: 0.19873337266428145\n",
      "[1.00000409e+00 1.81788890e-05]\n",
      "Loss: 0.1840676692560787\n",
      "[1.00000711e+00 1.81789756e-05]\n",
      "Loss: 0.14557559503092973\n",
      "[9.99998330e-01 1.81788842e-05]\n",
      "Loss: 0.42592028476298144\n",
      "[1.00000204e+00 1.81790105e-05]\n",
      "Loss: 0.24462148488446986\n",
      "[1.00000280e+00 1.81790274e-05]\n",
      "Loss: 0.21907773588582663\n",
      "[1.00000528e+00 1.81790831e-05]\n",
      "Loss: 0.16159250123596428\n",
      "[1.00000733e+00 1.81791199e-05]\n",
      "Loss: 0.14514875179726153\n",
      "[1.00000542e+00 1.81790767e-05]\n",
      "Loss: 0.1595568107228686\n",
      "[1.00000589e+00 1.81791152e-05]\n",
      "Loss: 0.15380321902509556\n",
      "[1.00001072e+00 1.81791687e-05]\n",
      "Loss: 0.17931205628973526\n",
      "[1.00001001e+00 1.81791556e-05]\n",
      "Loss: 0.16585777989852013\n",
      "[1.00000940e+00 1.81791485e-05]\n",
      "Loss: 0.15697579013441593\n",
      "[1.00001038e+00 1.81792567e-05]\n",
      "Loss: 0.17255814868270608\n",
      "[1.00000883e+00 1.81792353e-05]\n",
      "Loss: 0.1508681883922473\n",
      "[1.00000814e+00 1.81792219e-05]\n",
      "Loss: 0.14637929102838956\n",
      "[1.00000911e+00 1.81792669e-05]\n",
      "Loss: 0.1535324354977349\n",
      "[1.00000669e+00 1.81792224e-05]\n",
      "Loss: 0.14726423860265495\n",
      "[1.00000733e+00 1.81792707e-05]\n",
      "Loss: 0.14515521661506803\n",
      "[1.00000257e+00 1.81792186e-05]\n",
      "Loss: 0.22621277465923054\n",
      "[1.00000278e+00 1.81792664e-05]\n",
      "Loss: 0.21949758057499458\n",
      "[1.00000295e+00 1.81793413e-05]\n",
      "Loss: 0.21438747762672558\n",
      "[1.00000089e+00 1.81793164e-05]\n",
      "Loss: 0.29098305830715787\n",
      "[1.00000228e+00 1.81793598e-05]\n",
      "Loss: 0.23609615218743213\n",
      "[1.00000450e+00 1.81793904e-05]\n",
      "Loss: 0.17518685986664514\n",
      "[1.00000553e+00 1.81794276e-05]\n",
      "Loss: 0.15808558837824443\n",
      "[1.00000538e+00 1.81794242e-05]\n",
      "Loss: 0.16011662703142812\n",
      "[1.00000750e+00 1.81794576e-05]\n",
      "Loss: 0.14504283158744496\n",
      "[1.00000763e+00 1.81794604e-05]\n",
      "Loss: 0.14508812494870596\n",
      "[1.00000908e+00 1.81795075e-05]\n",
      "Loss: 0.15331293975296054\n",
      "[1.00000555e+00 1.81794701e-05]\n",
      "Loss: 0.1578400835569201\n",
      "[1.00000697e+00 1.81795108e-05]\n",
      "Loss: 0.14601087194313225\n",
      "[1.00000760e+00 1.81795494e-05]\n",
      "Loss: 0.14506722776267453\n",
      "[1.00000907e+00 1.81795755e-05]\n",
      "Loss: 0.15314916618400973\n",
      "[1.00000459e+00 1.81795152e-05]\n",
      "Loss: 0.17345035793943855\n",
      "[1.00000819e+00 1.81795652e-05]\n",
      "Loss: 0.14659933315869236\n",
      "[1.00000489e+00 1.81795190e-05]\n",
      "Loss: 0.1679764185796728\n",
      "[1.00000766e+00 1.81795699e-05]\n",
      "Loss: 0.1451184024169713\n",
      "[1.00000497e+00 1.81795377e-05]\n",
      "Loss: 0.1665134100122939\n",
      "[1.00000178e+00 1.81795023e-05]\n",
      "Loss: 0.25460944501627747\n",
      "[1.00000595e+00 1.81795632e-05]\n",
      "Loss: 0.1531793136700334\n",
      "[1.00000497e+00 1.81795482e-05]\n",
      "Loss: 0.166595130437691\n",
      "[1.00000402e+00 1.81795306e-05]\n",
      "Loss: 0.18565574193614018\n",
      "[1.00000427e+00 1.81795430e-05]\n",
      "Loss: 0.18004239377699108\n",
      "[1.00000450e+00 1.81795522e-05]\n",
      "Loss: 0.17514971224038633\n",
      "[1.00000463e+00 1.81795809e-05]\n",
      "Loss: 0.1726586417664217\n",
      "[1.00000576e+00 1.81796232e-05]\n",
      "Loss: 0.15524053207563188\n",
      "[1.00000629e+00 1.81796365e-05]\n",
      "Loss: 0.14999854374497612\n",
      "[1.00000535e+00 1.81796145e-05]\n",
      "Loss: 0.16064649722730973\n",
      "[1.00000634e+00 1.81796729e-05]\n",
      "Loss: 0.14959105303643722\n",
      "[1.00000552e+00 1.81796569e-05]\n",
      "Loss: 0.1581996305557703\n",
      "[1.00000775e+00 1.81796803e-05]\n",
      "Loss: 0.14523976210340367\n",
      "[1.00000774e+00 1.81796788e-05]\n",
      "Loss: 0.145225326355656\n",
      "[1.00000889e+00 1.81796918e-05]\n",
      "Loss: 0.1514334243786211\n",
      "[1.00000884e+00 1.81796906e-05]\n",
      "Loss: 0.15095022814223819\n",
      "[1.00000970e+00 1.81797001e-05]\n",
      "Loss: 0.1610820258480739\n",
      "[1.00000994e+00 1.81797037e-05]\n",
      "Loss: 0.16466039557125878\n",
      "[1.00000728e+00 1.81796702e-05]\n",
      "Loss: 0.14521118572341082\n",
      "[1.00000506e+00 1.81796474e-05]\n",
      "Loss: 0.16509712248774366\n",
      "[1.00000513e+00 1.81796727e-05]\n",
      "Loss: 0.16394262926025832\n",
      "[1.00000798e+00 1.81797303e-05]\n",
      "Loss: 0.1457684035602597\n",
      "[1.00000438e+00 1.81796911e-05]\n",
      "Loss: 0.17760626833458737\n",
      "[1.00000564e+00 1.81797053e-05]\n",
      "Loss: 0.15668447777924735\n",
      "[1.00000796e+00 1.81797456e-05]\n",
      "Loss: 0.14572995749579795\n",
      "[1.00000916e+00 1.81797599e-05]\n",
      "Loss: 0.1541712197667918\n",
      "[1.00001100e+00 1.81798013e-05]\n",
      "Loss: 0.18575914534987834\n",
      "[1.00000879e+00 1.81797782e-05]\n",
      "Loss: 0.1505029436665777\n",
      "[1.00001025e+00 1.81798301e-05]\n",
      "Loss: 0.17005104618876266\n",
      "Time: 0.05805087089538574\n"
     ]
    }
   ],
   "source": [
    "model = LinearRegression(base_lr=1e-10, steps=100)\n",
    "\n",
    "data = get_data(100000)\n",
    "\n",
    "start = time.time()\n",
    "model.fit(data[:,0].reshape((-1, 1)), data[:,1])\n",
    "print(\"Time:\", time.time() - start)"
   ]
  },
  {
   "cell_type": "code",
   "execution_count": 962,
   "id": "dab8db22",
   "metadata": {},
   "outputs": [
    {
     "data": {
      "text/plain": [
       "(array([1.00001135]), np.float64(1.817986535481756e-05))"
      ]
     },
     "execution_count": 962,
     "metadata": {},
     "output_type": "execute_result"
    }
   ],
   "source": [
    "model.coef_, model.intercept_"
   ]
  },
  {
   "cell_type": "code",
   "execution_count": 963,
   "id": "f29dca54",
   "metadata": {},
   "outputs": [
    {
     "data": {
      "text/plain": [
       "[<matplotlib.lines.Line2D at 0x28d876c5a50>]"
      ]
     },
     "execution_count": 963,
     "metadata": {},
     "output_type": "execute_result"
    },
    {
     "data": {
      "image/png": "[encoded data removed]",
      "text/plain": [
       "<Figure size 640x480 with 1 Axes>"
      ]
     },
     "metadata": {},
     "output_type": "display_data"
    }
   ],
   "source": [
    "plt.scatter(data[:, 0], data[:, 1])\n",
    "\n",
    "x_vals = np.sort(data[:, 0])\n",
    "y_vals = model.predict(x_vals.reshape(-1, 1))\n",
    "\n",
    "plt.plot(x_vals, y_vals, color='red')\n"
   ]
  }
 ],
 "metadata": {
  "kernelspec": {
   "display_name": ".venv",
   "language": "python",
   "name": "python3"
  },
  "language_info": {
   "codemirror_mode": {
    "name": "ipython",
    "version": 3
   },
   "file_extension": ".py",
   "mimetype": "text/x-python",
   "name": "python",
   "nbconvert_exporter": "python",
   "pygments_lexer": "ipython3",
   "version": "3.10.15"
  }
 },
 "nbformat": 4,
 "nbformat_minor": 5
}

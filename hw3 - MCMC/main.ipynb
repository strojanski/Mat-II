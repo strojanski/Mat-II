{
 "cells": [
  {
   "cell_type": "code",
   "execution_count": 79,
   "id": "d72bb8dc",
   "metadata": {},
   "outputs": [],
   "source": [
    "import numpy as np\n",
    "import matplotlib.pyplot as plt"
   ]
  },
  {
   "cell_type": "code",
   "execution_count": 80,
   "id": "4ea917eb",
   "metadata": {},
   "outputs": [],
   "source": [
    "np.random.seed(0)"
   ]
  },
  {
   "cell_type": "code",
   "execution_count": 81,
   "id": "5530a210",
   "metadata": {},
   "outputs": [],
   "source": [
    "a, b, c = 0, 10, 100"
   ]
  },
  {
   "cell_type": "markdown",
   "id": "05a3dce9",
   "metadata": {},
   "source": [
    "### 1. Trapezoid approx"
   ]
  },
  {
   "cell_type": "code",
   "execution_count": 82,
   "id": "06899670",
   "metadata": {},
   "outputs": [],
   "source": [
    "from scipy.special import beta\n",
    "\n",
    "def p(x, a=0, b=10, c=100):\n",
    "    x = np.asarray(x)\n",
    "    \n",
    "    _alpha = 1 + 4 * (b - a) / (c -a)\n",
    "    _beta =  1 + 4 * (c - b) / (c - a)\n",
    "    \n",
    "    pdf = np.zeros_like(x)\n",
    "    support = (x >= a) & (x <= c)\n",
    "    \n",
    "    pdf[support] = ((x[support] - a)**(_alpha - 1) * (c - x[support])**(_beta - 1)) / (beta(_alpha, _beta) * (c - a)**(_alpha + _beta - 1))    \n",
    "    return pdf "
   ]
  },
  {
   "cell_type": "code",
   "execution_count": 83,
   "id": "7d8b6fb1",
   "metadata": {},
   "outputs": [
    {
     "data": {
      "text/plain": [
       "(23.333333333333332, 255.55555555555557)"
      ]
     },
     "execution_count": 83,
     "metadata": {},
     "output_type": "execute_result"
    }
   ],
   "source": [
    "E_X = (a + 4*b + c) / 6\n",
    "var_X = ((E_X - a) * (c - E_X)) / 7\n",
    "\n",
    "E_X, var_X"
   ]
  },
  {
   "cell_type": "code",
   "execution_count": 84,
   "id": "3d1e4da1",
   "metadata": {},
   "outputs": [],
   "source": [
    "def integrand(x):\n",
    "    return x * p(x)\n",
    "\n",
    "\n",
    "def trapezoid(f, a, b, n=1000):\n",
    "    x = np.linspace(a, b, n + 1)\n",
    "    y = f(x)\n",
    "    h = (b - a) / n\n",
    "    T = h * (y[0]/2 + y[1:-1].sum() + y[-1]/2)\n",
    "    return T"
   ]
  },
  {
   "cell_type": "code",
   "execution_count": 85,
   "id": "f24039ab",
   "metadata": {},
   "outputs": [
    {
     "data": {
      "text/plain": [
       "np.float64(1.2914794278720907)"
      ]
     },
     "execution_count": 85,
     "metadata": {},
     "output_type": "execute_result"
    }
   ],
   "source": [
    "trapezoid(integrand, a, b)"
   ]
  },
  {
   "cell_type": "code",
   "execution_count": 91,
   "id": "247041fc",
   "metadata": {},
   "outputs": [
    {
     "name": "stdout",
     "output_type": "stream",
     "text": [
      "Converged at n=271 with error=0.000050\n"
     ]
    }
   ],
   "source": [
    "for i in range(1,2000):\n",
    "    error = np.abs(E_X - trapezoid(integrand, a, c, n=i))\n",
    "    if error < 5e-5:    # 4 decimal places\n",
    "        print(f\"Converged at n={i} with error={error:.6f}\")\n",
    "        break"
   ]
  },
  {
   "cell_type": "code",
   "execution_count": 87,
   "id": "bbc28492",
   "metadata": {},
   "outputs": [],
   "source": [
    "# h = (b-a)/n;\n",
    "# T = (f(a)+f(b))/2;\n",
    "#    for i = 1:n-1\n",
    "#       T = T + f(a+i*h);\n",
    "#    end\n",
    "# T = T*h;"
   ]
  },
  {
   "cell_type": "markdown",
   "id": "3f6dfda1",
   "metadata": {},
   "source": [
    "### 2. CLT estimation"
   ]
  },
  {
   "cell_type": "markdown",
   "id": "0ad1d9d7",
   "metadata": {},
   "source": [
    "E_n = N(E[X], (c - a)^2 sigma**2 / n) \\\n",
    "E[x] = 1.96 * (c - a) sigma / sqrt(n)\n",
    "\n",
    "n >= ((1.96 * (c - a) sigma) / error)**2"
   ]
  },
  {
   "cell_type": "code",
   "execution_count": null,
   "id": "00866f1b",
   "metadata": {},
   "outputs": [
    {
     "data": {
      "text/plain": [
       "np.float64(57240358.36635303)"
      ]
     },
     "execution_count": 90,
     "metadata": {},
     "output_type": "execute_result"
    }
   ],
   "source": [
    "n0 = 1000\n",
    "x = np.random.uniform(a, c, n0)\n",
    "\n",
    "y = x * p(x)\n",
    "sigma_hat = np.std(y, ddof=1)\n",
    "\n",
    "target_error = 5e-3 # 2 decimals\n",
    "z = 1.96  # for 95% confidence interval\n",
    "n_req = (z * (c - a) * sigma_hat / target_error)**2   \n",
    "n_req"
   ]
  },
  {
   "cell_type": "markdown",
   "id": "81f93cc0",
   "metadata": {},
   "source": [
    "### 3. Verify the estimates"
   ]
  },
  {
   "cell_type": "code",
   "execution_count": 92,
   "id": "a1c5f910",
   "metadata": {},
   "outputs": [
    {
     "name": "stdout",
     "output_type": "stream",
     "text": [
      "Estimate: 23.333413, Std Dev: 0.002522, Error: 0.000080\n",
      "Estimate: 23.333425, Std Dev: 0.002522, Error: 0.000092\n",
      "Estimate: 23.334279, Std Dev: 0.002522, Error: 0.000945\n",
      "Estimate: 23.333749, Std Dev: 0.002522, Error: 0.000415\n",
      "Estimate: 23.333410, Std Dev: 0.002522, Error: 0.000077\n",
      "Estimate: 23.330469, Std Dev: 0.002522, Error: 0.002864\n",
      "Estimate: 23.330200, Std Dev: 0.002522, Error: 0.003134\n",
      "Estimate: 23.335562, Std Dev: 0.002522, Error: 0.002228\n",
      "Estimate: 23.333523, Std Dev: 0.002522, Error: 0.000190\n",
      "Estimate: 23.337685, Std Dev: 0.002522, Error: 0.004352\n",
      "Estimate: 23.328189, Std Dev: 0.002522, Error: 0.005144\n",
      "Estimate: 23.335516, Std Dev: 0.002522, Error: 0.002183\n",
      "Estimate: 23.334233, Std Dev: 0.002522, Error: 0.000899\n",
      "Estimate: 23.332207, Std Dev: 0.002522, Error: 0.001127\n",
      "Estimate: 23.333281, Std Dev: 0.002522, Error: 0.000053\n"
     ]
    }
   ],
   "source": [
    "n = int(np.ceil(n_req))\n",
    "\n",
    "n_estimates = 15\n",
    "for _ in range(n_estimates):\n",
    "    x = np.random.uniform(a, c, n)\n",
    "    fx = c * integrand(x)\n",
    "\n",
    "    mean = np.mean(fx)\n",
    "    std_dev = np.std(fx) / np.sqrt(n)    \n",
    "    \n",
    "    error = np.abs(mean - E_X)\n",
    "    print(f\"Estimate: {mean:.6f}, Std Dev: {std_dev:.6f}, Error: {error:.6f}\")    \n",
    "    "
   ]
  },
  {
   "cell_type": "markdown",
   "id": "dccabec5",
   "metadata": {},
   "source": [
    "### All estimates below 0.005, therefore the estimate is correct"
   ]
  },
  {
   "cell_type": "markdown",
   "id": "e3dded7e",
   "metadata": {},
   "source": [
    "### Comparison, discussion\n",
    "Trapezoid up to 4 decimals with < 1k iterations while MC integration requires milions just to reach second decimal accuracy, so in this case the trapezoid is much more efficient"
   ]
  },
  {
   "cell_type": "markdown",
   "id": "bd1dc3d5",
   "metadata": {},
   "source": [
    "## 2. Importance sampling"
   ]
  },
  {
   "cell_type": "code",
   "execution_count": 93,
   "id": "cb8d898a",
   "metadata": {},
   "outputs": [],
   "source": [
    "def f(x):\n",
    "    return x ** (-0.75) + np.exp(-x)"
   ]
  },
  {
   "cell_type": "markdown",
   "id": "195533e3",
   "metadata": {},
   "source": [
    "### 2.1 Plot on [0, 1]"
   ]
  },
  {
   "cell_type": "code",
   "execution_count": 96,
   "id": "be5aa6ae",
   "metadata": {},
   "outputs": [
    {
     "name": "stderr",
     "output_type": "stream",
     "text": [
      "C:\\Users\\sebas\\AppData\\Local\\Temp\\ipykernel_1856\\1656614922.py:2: RuntimeWarning: divide by zero encountered in power\n",
      "  return x ** (-0.75) + np.exp(-x)\n"
     ]
    },
    {
     "data": {
      "text/plain": [
       "[<matplotlib.lines.Line2D at 0x2977fa926e0>]"
      ]
     },
     "execution_count": 96,
     "metadata": {},
     "output_type": "execute_result"
    },
    {
     "data": {
      "image/png": "[encoded data removed]",
      "text/plain": [
       "<Figure size 1000x600 with 1 Axes>"
      ]
     },
     "metadata": {},
     "output_type": "display_data"
    }
   ],
   "source": [
    "x = np.linspace(0, 1, 100)\n",
    "plt.figure(figsize=(10, 6))\n",
    "plt.plot(x, f(x), label='f(x) = x^(-0.75) + exp(-x)', color='blue')\n"
   ]
  },
  {
   "cell_type": "markdown",
   "id": "2e1cac78",
   "metadata": {},
   "source": [
    "### 2.2 Uniform sample MC"
   ]
  },
  {
   "cell_type": "code",
   "execution_count": 98,
   "id": "7b5cb92f",
   "metadata": {},
   "outputs": [
    {
     "name": "stdout",
     "output_type": "stream",
     "text": [
      "Mean Estimate: 46.613548, Std Dev: 0.998660\n"
     ]
    }
   ],
   "source": [
    "n = 10e7\n",
    "\n",
    "estimates = []\n",
    "\n",
    "for _ in range(10):\n",
    "    x = np.random.uniform(0, 1, int(n))\n",
    "    fx = f(x)\n",
    "    \n",
    "    est = (b - a) * np.mean(fx)\n",
    "    estimates.append(est)\n",
    "    \n",
    "estimates = np.array(estimates)\n",
    "mean_I = np.mean(estimates)\n",
    "std_I = np.std(estimates)\n",
    "\n",
    "print(f\"Mean Estimate: {mean_I:.6f}, Std Dev: {std_I:.6f}\")\n"
   ]
  },
  {
   "cell_type": "markdown",
   "id": "81560b31",
   "metadata": {},
   "source": [
    "### 2.3 Estimate I by q"
   ]
  },
  {
   "cell_type": "code",
   "execution_count": 111,
   "id": "2c4e1d64",
   "metadata": {},
   "outputs": [],
   "source": [
    "# I x^{-3/4} dx = [x^{1/4} / (1/4)] = 4, so c = 1/4\n",
    "n = int(10e7)\n",
    "c = 1/4\n",
    "\n",
    "\n",
    "def q(x, c=1/4):\n",
    "    return c * x**(-0.75)\n",
    "\n",
    "def cdf_q(x):\n",
    "    return x ** 0.25\n",
    "\n",
    "def inv_cdf_q(x):\n",
    "    return x ** 4\n",
    "\n",
    "estimates = []\n",
    "for _ in range(10):\n",
    "    u = np.random.uniform(1e-10, 1, size=n)\n",
    "    x = inv_cdf_q(u)\n",
    "    fx = f(x)\n",
    "    qx = q(x)\n",
    "    W = fx / qx\n",
    "    \n",
    "    estimates.append(np.mean(W) * (b - a))"
   ]
  },
  {
   "cell_type": "code",
   "execution_count": 105,
   "id": "f96fabe3",
   "metadata": {},
   "outputs": [
    {
     "data": {
      "text/plain": [
       "(np.float64(0.006506639413147555), np.float64(7.070352635499551e-07))"
      ]
     },
     "execution_count": 105,
     "metadata": {},
     "output_type": "execute_result"
    }
   ],
   "source": [
    "np.mean(estimates), np.std(estimates)"
   ]
  }
 ],
 "metadata": {
  "kernelspec": {
   "display_name": ".venv",
   "language": "python",
   "name": "python3"
  },
  "language_info": {
   "codemirror_mode": {
    "name": "ipython",
    "version": 3
   },
   "file_extension": ".py",
   "mimetype": "text/x-python",
   "name": "python",
   "nbconvert_exporter": "python",
   "pygments_lexer": "ipython3",
   "version": "3.10.15"
  }
 },
 "nbformat": 4,
 "nbformat_minor": 5
}
